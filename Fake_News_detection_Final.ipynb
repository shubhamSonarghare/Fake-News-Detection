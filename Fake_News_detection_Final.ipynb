{
  "nbformat": 4,
  "nbformat_minor": 0,
  "metadata": {
    "colab": {
      "name": "Fake_News_detection_Final.ipynb",
      "provenance": [],
      "collapsed_sections": []
    },
    "kernelspec": {
      "name": "python3",
      "display_name": "Python 3"
    }
  },
  "cells": [
    {
      "cell_type": "markdown",
      "metadata": {
        "id": "Le8Dps2jPmeh",
        "colab_type": "text"
      },
      "source": [
        "# <font color=Orange> Fake news Detection </font>\n",
        " \n",
        " ## **Introduction to Text Classification:** \n",
        "\n",
        " <div style='text-align: justify'> The given problem of detecting fake news from the headlines is basically a text classification problem, which has been addressed using two of the following approaches.</div>\n",
        " \n",
        ">    **Bag-of-words (BoW)**: <br> <sub> <div style='text-align: justify'> Machine learning algorithms are good with numbers and hence we need a way of representing text using numbers. BoW is a way of extracting features from textual data. This basically creates vocabuary of all unique words in the text  which can then be used to train machine learning algorithms. This vocabulary  can then be represented by numbers using various techniques. The two of the most common approaches of representing text using the numbers, this notebook illustrates are: </div>\n",
        "1. *Frequency of Word:* <br> <div style='text-align: justify'> This approach assumes that if something is repeated again and again in the text then it carries more importance in the given text/document. Hence more the occurence more the importance. Thus, each word is represented by number of occurences of words in the given textual data. <br> For example: The following sentence can be represented as: <br>\"In this document this is repeated again again again, and now again, in this document \". this sentence can be represented as : <br > </div>\n",
        ">\n",
        "> ```python\n",
        " vect = {\"in\":2,\"this\":3,\"document:\"2, \"is\":1, \"repeated\":1, \"again\":4, \"now\":1, }\n",
        "  ```\n",
        "2. *Term frequency*- Inverse document frequency (TF-IDF):<br><div style='text-align: justify'> With TF-IDF it is assumed that more quency words carry less information and less frequency/peculiar word gives more information gain in the document. Specifically, in TF-IDF more weight is given to the word which occurs more frequently in current document and low in any other document in the training corpus. Mathematically:</div>\n",
        ">\n",
        "> <div style='text-align: center'><img src=\"https://latex.codecogs.com/svg.latex?\\Large&space;w_{x,y}=tf_{x,y} \\times log (\\frac  {N}{df_{x,y}})\"></div>\n",
        "><div style='text-align: center'><img src=\"https://latex.codecogs.com/svg.latex?\\Large&space;Where,\\\\ w_{x,y}= \\ weight \\ of \\ word \\ x \\ in \\ document \\ y \\\\ tf_{x,y}= \\ frequency \\ of \\ x \\ in \\ y \\\\ N = \\ total \\ number \\ of  \\ documents\"></div>\n",
        ">\n",
        "> **Word Embeddings**:<br> <div style='text-align: justify'>If words with similar meaning have similar representation then a vector representing a word can be more dense than sparse as compared to their representation in case of *bag-of-words*. Word embedding allows similar words to have similar representation. This means that individual words have to be defined by a vector. These vectors are learned from a text corpus which helps a classifier in understanding the relationship of a word with its neighbouring word. To learn this vector representation of text we can learn this by adding an embedding layer in the neural network or use *word2vec* to find this representaion before using them in the neural network. <br> \n",
        "1. *Word2Vec:* <br>This is a shallow neural network used to learn word embeddings. By training such a small neural network on large corpus of documents, we get a good representation of words which can then be used for any text classification task. This approach is particularly useful because similar words are represented by similar vectors in the vectorspace. Given enough word corpus, *word2vec* can learn word associations e.g. \"King\" is to \"Queen\" what \"boy\" is to \"girl\". The main optimisation goal here is to lower the cosine similarity of similar words.</div>\n",
        "\n",
        "\n",
        "\n",
        "\n"
      ]
    },
    {
      "cell_type": "code",
      "metadata": {
        "id": "-KIWmDKQPj64",
        "colab_type": "code",
        "outputId": "45295d9a-7129-47b6-9cf0-6709602a39eb",
        "colab": {
          "base_uri": "https://localhost:8080/",
          "height": 51
        }
      },
      "source": [
        "import numpy as np\n",
        "import pandas as pd\n",
        "import matplotlib.pyplot as plt\n",
        "import seaborn as sns\n",
        "import re\n",
        "import pickle\n",
        "from sklearn.utils import shuffle\n",
        "from sklearn.model_selection import train_test_split\n",
        "from sklearn.feature_extraction import stop_words\n",
        "from nltk.corpus import stopwords\n",
        "from sklearn.pipeline import Pipeline\n",
        "from sklearn.metrics import classification_report\n",
        "from sklearn.metrics import accuracy_score, confusion_matrix\n",
        "from sklearn.feature_extraction.text import TfidfTransformer\n",
        "from sklearn.feature_extraction.text import TfidfVectorizer\n",
        "from sklearn.feature_extraction.text import HashingVectorizer\n",
        "\n",
        "from sklearn.feature_extraction.text import CountVectorizer\n",
        "from sklearn.naive_bayes import MultinomialNB\n",
        "from sklearn.linear_model import SGDClassifier\n",
        "from sklearn.linear_model import LogisticRegression\n",
        "from sklearn.tree import DecisionTreeClassifier\n",
        "from sklearn.ensemble import RandomForestClassifier\n",
        "from sklearn.model_selection import GridSearchCV\n",
        "from sklearn.utils.testing import ignore_warnings\n",
        "from sklearn.exceptions import ConvergenceWarning\n",
        "from matplotlib import cm\n",
        "from sklearn.metrics import roc_curve, auc, roc_auc_score, confusion_matrix\n",
        "import nltk\n",
        "nltk.download('stopwords')\n",
        "plt.style.use('default')\n",
        "import warnings\n",
        "warnings.simplefilter(action='ignore', category=[FutureWarning, ConvergenceWarning])"
      ],
      "execution_count": 0,
      "outputs": [
        {
          "output_type": "stream",
          "text": [
            "[nltk_data] Downloading package stopwords to /root/nltk_data...\n",
            "[nltk_data]   Package stopwords is already up-to-date!\n"
          ],
          "name": "stdout"
        }
      ]
    },
    {
      "cell_type": "code",
      "metadata": {
        "id": "GfjtkOolVWs-",
        "colab_type": "code",
        "outputId": "1da9c9fd-b0db-44c8-a809-5d2bbeb9b821",
        "colab": {
          "base_uri": "https://localhost:8080/",
          "height": 122
        }
      },
      "source": [
        "from google.colab import drive\n",
        "drive.mount('/content/drive')"
      ],
      "execution_count": 0,
      "outputs": [
        {
          "output_type": "stream",
          "text": [
            "Go to this URL in a browser: https://accounts.google.com/o/oauth2/auth?client_id=947318989803-6bn6qk8qdgf4n4g3pfee6491hc0brc4i.apps.googleusercontent.com&redirect_uri=urn%3aietf%3awg%3aoauth%3a2.0%3aoob&response_type=code&scope=email%20https%3a%2f%2fwww.googleapis.com%2fauth%2fdocs.test%20https%3a%2f%2fwww.googleapis.com%2fauth%2fdrive%20https%3a%2f%2fwww.googleapis.com%2fauth%2fdrive.photos.readonly%20https%3a%2f%2fwww.googleapis.com%2fauth%2fpeopleapi.readonly\n",
            "\n",
            "Enter your authorization code:\n",
            "··········\n",
            "Mounted at /content/drive\n"
          ],
          "name": "stdout"
        }
      ]
    },
    {
      "cell_type": "markdown",
      "metadata": {
        "id": "zQkCXvNyJfAR",
        "colab_type": "text"
      },
      "source": [
        "#  <font color= \"Blue\" > The Dataset </font>\n",
        "The given dataset is a .json file containing labeled headlines of the news which are to be classified as fake or real. This clearly is a text classification problem and hence this notebook uses the two apporaches mentioned above for this classification task. \n",
        "\n",
        "In this case python library *pandas* is used to read the json file and convert the dataset to *Dataframe* which is the native structure of the *pandas*.\n"
      ]
    },
    {
      "cell_type": "code",
      "metadata": {
        "id": "uF7lG3b0PV-G",
        "colab_type": "code",
        "outputId": "74c3a165-355a-428a-ddbb-77f4c0b31e14",
        "colab": {
          "base_uri": "https://localhost:8080/",
          "height": 204
        }
      },
      "source": [
        "#import given json file\n",
        "df = pd.read_json(\"/content/drive/My Drive/fake_news.json\", lines=True)\n",
        "df.head()"
      ],
      "execution_count": 0,
      "outputs": [
        {
          "output_type": "execute_result",
          "data": {
            "text/html": [
              "<div>\n",
              "<style scoped>\n",
              "    .dataframe tbody tr th:only-of-type {\n",
              "        vertical-align: middle;\n",
              "    }\n",
              "\n",
              "    .dataframe tbody tr th {\n",
              "        vertical-align: top;\n",
              "    }\n",
              "\n",
              "    .dataframe thead th {\n",
              "        text-align: right;\n",
              "    }\n",
              "</style>\n",
              "<table border=\"1\" class=\"dataframe\">\n",
              "  <thead>\n",
              "    <tr style=\"text-align: right;\">\n",
              "      <th></th>\n",
              "      <th>is_sarcastic</th>\n",
              "      <th>headline</th>\n",
              "      <th>article_link</th>\n",
              "    </tr>\n",
              "  </thead>\n",
              "  <tbody>\n",
              "    <tr>\n",
              "      <th>0</th>\n",
              "      <td>1</td>\n",
              "      <td>thirtysomething scientists unveil doomsday clo...</td>\n",
              "      <td>https://www.theonion.com/thirtysomething-scien...</td>\n",
              "    </tr>\n",
              "    <tr>\n",
              "      <th>1</th>\n",
              "      <td>0</td>\n",
              "      <td>dem rep. totally nails why congress is falling...</td>\n",
              "      <td>https://www.huffingtonpost.com/entry/donna-edw...</td>\n",
              "    </tr>\n",
              "    <tr>\n",
              "      <th>2</th>\n",
              "      <td>0</td>\n",
              "      <td>eat your veggies: 9 deliciously different recipes</td>\n",
              "      <td>https://www.huffingtonpost.com/entry/eat-your-...</td>\n",
              "    </tr>\n",
              "    <tr>\n",
              "      <th>3</th>\n",
              "      <td>1</td>\n",
              "      <td>inclement weather prevents liar from getting t...</td>\n",
              "      <td>https://local.theonion.com/inclement-weather-p...</td>\n",
              "    </tr>\n",
              "    <tr>\n",
              "      <th>4</th>\n",
              "      <td>1</td>\n",
              "      <td>mother comes pretty close to using word 'strea...</td>\n",
              "      <td>https://www.theonion.com/mother-comes-pretty-c...</td>\n",
              "    </tr>\n",
              "  </tbody>\n",
              "</table>\n",
              "</div>"
            ],
            "text/plain": [
              "   is_sarcastic  ...                                       article_link\n",
              "0             1  ...  https://www.theonion.com/thirtysomething-scien...\n",
              "1             0  ...  https://www.huffingtonpost.com/entry/donna-edw...\n",
              "2             0  ...  https://www.huffingtonpost.com/entry/eat-your-...\n",
              "3             1  ...  https://local.theonion.com/inclement-weather-p...\n",
              "4             1  ...  https://www.theonion.com/mother-comes-pretty-c...\n",
              "\n",
              "[5 rows x 3 columns]"
            ]
          },
          "metadata": {
            "tags": []
          },
          "execution_count": 5
        }
      ]
    },
    {
      "cell_type": "markdown",
      "metadata": {
        "id": "spqvM7i7Xyf0",
        "colab_type": "text"
      },
      "source": [
        "# <font color= \"Blue\" > Preprocessing: </font> <br>\n",
        "\n",
        "<div style='text-align: justify'>The first step in any machine learning problem is to perform preprocessing to the given data and grab insights from the data so that they can be fed intuitively to appropriate machine learning algorithms.</div>\n",
        "\n",
        "Below are the some of the preprocessing steps taken:\n",
        "\n",
        "1. <div style='text-align: justify'> Find unique charachters in the dataset and remove any punctuation marks, numbers which are present in the \"headline\" . This step is done because these charachters/numbers doesnot add weight to any contextual information present in the given data.</div>\n",
        "\n",
        "\n",
        "2. <div style='text-align: justify'>Shuffle the data so as to remove any skewness in the data while doing the train-test split i.e preventing the presence of more examples of one class than other excessively in one split than other. </div>\n",
        "\n",
        "3. <div style='text-align: justify'> Remove any duplicate entries in the dataset. </div>\n",
        "\n",
        "4. <div style='text-align: justify'>Perform the train-validation-test split and save the split in named files. </div>\n",
        "\n"
      ]
    },
    {
      "cell_type": "markdown",
      "metadata": {
        "id": "7xEjVaPTd_eY",
        "colab_type": "text"
      },
      "source": [
        "### Step 1: Remove punctuation/numbers/alphanumerical charachters"
      ]
    },
    {
      "cell_type": "code",
      "metadata": {
        "id": "UkgBnNkgXfMh",
        "colab_type": "code",
        "colab": {}
      },
      "source": [
        "#Step 1: Remove the punctuation/numbers/alphanumnerical charachters\n",
        "# function to remove any punctuation, symbols, numbers. \n",
        "\n",
        "def cleantxt(txt):\n",
        "  txt = txt.lower()\n",
        "  #remove punctuation\n",
        "  txt = re.sub(r'[/(){}\\[\\]\\|@,;]',' ',txt)\n",
        "  #remove bad words\n",
        "  txt = re.sub(r'[^0-9a-z #+_]','', txt)\n",
        "  txt = re.sub(r'#','', txt);\n",
        "  #remove numbers\n",
        "  txt = re.sub(r'\\d+','',txt)\n",
        "  return txt\n",
        "\n",
        "df['headline'] = df.headline.apply(cleantxt)"
      ],
      "execution_count": 0,
      "outputs": []
    },
    {
      "cell_type": "markdown",
      "metadata": {
        "id": "EQramUQHeEdW",
        "colab_type": "text"
      },
      "source": [
        "### Step 2 & 3: Shuffle the dataset and Remove Duplicate entries:\n"
      ]
    },
    {
      "cell_type": "code",
      "metadata": {
        "id": "1BPMp7bQc-bq",
        "colab_type": "code",
        "outputId": "dc48df42-358d-43a9-e77c-f64575b103d5",
        "colab": {
          "base_uri": "https://localhost:8080/",
          "height": 221
        }
      },
      "source": [
        "#Shuffle dataset\n",
        "df = df.sample(frac = 1).reset_index(drop=True);\n",
        "\n",
        "#Remove the \"Article link column\"\n",
        "df_clean = pd.concat([df['headline'], df['is_sarcastic']], axis =1)\n",
        "print(\"Number of entries before removing duplicates \\n\", df_clean.count())\n",
        "\n",
        "#print the duplicate entries count\n",
        "dup_count  = df_clean[df_clean.duplicated()].count()\n",
        "print(\"Duplicate Entries:: \\n\",dup_count)\n",
        "type(dup_count[0])\n",
        "#if there are duplicate enties, remove them\n",
        "if dup_count[0]!=0:\n",
        "  df_clean = df_clean.drop_duplicates()\n",
        "  print(\"NUmber of entries after removing duplicates: \\n\", df_clean.count())"
      ],
      "execution_count": 0,
      "outputs": [
        {
          "output_type": "stream",
          "text": [
            "Number of entries before removing duplicates \n",
            " headline        28619\n",
            "is_sarcastic    28619\n",
            "dtype: int64\n",
            "Duplicate Entries:: \n",
            " headline        141\n",
            "is_sarcastic    141\n",
            "dtype: int64\n",
            "NUmber of entries after removing duplicates: \n",
            " headline        28478\n",
            "is_sarcastic    28478\n",
            "dtype: int64\n"
          ],
          "name": "stdout"
        }
      ]
    },
    {
      "cell_type": "markdown",
      "metadata": {
        "id": "ATV7E2l6qvhK",
        "colab_type": "text"
      },
      "source": [
        "### Step 4: Split the data into train, validation and test set and store them in the file."
      ]
    },
    {
      "cell_type": "markdown",
      "metadata": {
        "id": "Iy25rTHdocvr",
        "colab_type": "text"
      },
      "source": [
        "Note: In this Notebook, *df_valid* is used as testing set and *df_test* as validation set\n"
      ]
    },
    {
      "cell_type": "code",
      "metadata": {
        "id": "06RwOdhpkdY7",
        "colab_type": "code",
        "outputId": "2e6d3e56-0231-403e-f207-32d02a38de76",
        "colab": {
          "base_uri": "https://localhost:8080/",
          "height": 68
        }
      },
      "source": [
        "X = df_clean.headline\n",
        "Y = df_clean.is_sarcastic\n",
        "\n",
        "df_train, df_test = train_test_split(df_clean, test_size = 0.15, random_state=23)\n",
        "df_valid, df_test = train_test_split(df_test, test_size = 0.50, random_state=23)\n",
        "\n",
        "print(\"Training data size\", df_train['headline'].shape,\n",
        "      df_train['is_sarcastic'].shape);\n",
        "print(\"Validation data size\", df_valid['headline'].shape,\n",
        "      df_valid['is_sarcastic'].shape)\n",
        "print(\"Testing data size\", df_test['headline'].shape, \n",
        "      df_test['is_sarcastic'].shape)"
      ],
      "execution_count": 0,
      "outputs": [
        {
          "output_type": "stream",
          "text": [
            "Training data size (24206,) (24206,)\n",
            "Validation data size (2136,) (2136,)\n",
            "Testing data size (2136,) (2136,)\n"
          ],
          "name": "stdout"
        }
      ]
    },
    {
      "cell_type": "markdown",
      "metadata": {
        "id": "NIb86ZMxnkkv",
        "colab_type": "text"
      },
      "source": [
        "### Save Dataframes in CSV files"
      ]
    },
    {
      "cell_type": "code",
      "metadata": {
        "id": "P-TgW8ZEnjyS",
        "colab_type": "code",
        "colab": {}
      },
      "source": [
        "df_train.to_csv('/content/drive/My Drive/Fake_news_detect_op/train.csv')\n",
        "df_valid.to_csv('/content/drive/My Drive/Fake_news_detect_op/test.csv')\n",
        "df_test.to_csv('/content/drive/My Drive/Fake_news_detect_op/validation.csv')"
      ],
      "execution_count": 0,
      "outputs": []
    },
    {
      "cell_type": "markdown",
      "metadata": {
        "id": "ZdnZq5IQrxa3",
        "colab_type": "text"
      },
      "source": [
        "### Visualizing data in different splits\n",
        "\n",
        "The output of this step show that spliting of the data is done fairly well and there is no major skewness in any of the split. "
      ]
    },
    {
      "cell_type": "code",
      "metadata": {
        "id": "xu7POmoXrfCS",
        "colab_type": "code",
        "outputId": "f73cb76f-d103-4063-ae82-d6c90c589550",
        "colab": {
          "base_uri": "https://localhost:8080/",
          "height": 260
        }
      },
      "source": [
        "fig,ax = plt.subplots(1,3)\n",
        "plt.subplots_adjust(bottom = 0.5,right = 1.5, wspace = 0.2)\n",
        "plt.subplot(1,3,1)\n",
        "df_train['is_sarcastic'].value_counts()[:].plot(kind='bar', color=['green','orange']);\n",
        "plt.title(\"Training - split\")\n",
        "\n",
        "plt.subplot(1,3,2)\n",
        "df_test['is_sarcastic'].value_counts()[:].plot(kind='bar', color=['green','orange']);\n",
        "plt.title(\"Testing - split\")\n",
        "\n",
        "plt.subplot(1,3,3)\n",
        "df_valid['is_sarcastic'].value_counts()[:].plot(kind='bar', color=['green','orange']);\n",
        "plt.title(\"Validation - split\");"
      ],
      "execution_count": 0,
      "outputs": [
        {
          "output_type": "display_data",
          "data": {
            "image/png": "[encoded data removed]",
            "text/plain": [
              "<Figure size 640x480 with 3 Axes>"
            ]
          },
          "metadata": {
            "tags": []
          }
        }
      ]
    },
    {
      "cell_type": "markdown",
      "metadata": {
        "id": "z4oxjkWH0PnX",
        "colab_type": "text"
      },
      "source": [
        "# <font color= \"Blue\" > Feature Extraction using Bag of Words (BoW) </font>\n",
        "\n",
        "As mentioned above, there are two ways which can be used to represent the textual information with numbers in BoW.\n",
        "1. Frequency of words: <br> Scikit learn's *sklearn.feature_extraction* module provided *CountVectorizer* function builds matrix of numbers from the text based on the frequency of word in the text. The output shows the frequency of the words in the headlines (all combined). Here number of rows represent all unique words in the training data and number of columns represents number of training examples. The number in each row defines the frequency of the word in the current headline.\n",
        "2. Term Frequency -Inverse Document Frequency: <br> Scikit learn's *sklearn.feature_extraction* module provided *TfidfVectorizer* function lets us to build matrix of numbers from the text based on uniqueness of the word in the current document relative to rest of the documents under observation. Here rows and columns number have save meaning as in *CountVectorizer*, although the number in each row gives the calculated weight of each word in the current headline calculated using the formula stated above and can be interpreted accordingly.\n",
        "\n",
        "This can beimplemented as below\n",
        "\n",
        "\n",
        "\n"
      ]
    },
    {
      "cell_type": "code",
      "metadata": {
        "id": "xEWq0_NQ0OUG",
        "colab_type": "code",
        "outputId": "fef79cea-0961-41bc-fc7d-f8cc20f5740a",
        "colab": {
          "base_uri": "https://localhost:8080/",
          "height": 85
        }
      },
      "source": [
        "cnt_vect = CountVectorizer()\n",
        "cnt_vect_fit = cnt_vect.fit_transform(df_train['headline'])\n",
        "print(\"Shape of the CountVectoriser representation: \", \n",
        "      cnt_vect_fit.toarray().shape)\n",
        "print(\"Unique values in the CountVectoriser: \", \n",
        "      np.unique(cnt_vect_fit.toarray()))\n",
        "\n",
        "tfidf_vect = TfidfVectorizer(min_df=1)\n",
        "tfidf_vect_fit = tfidf_vect.fit_transform(df_train['headline'])\n",
        "print(\"Shape of the TfidfVectoriser representation: \", \n",
        "      tfidf_vect_fit.toarray().shape)\n",
        "print(\"Unique values in the TfidfVectoriser: \", \n",
        "      np.unique(tfidf_vect_fit.toarray()))\n"
      ],
      "execution_count": 0,
      "outputs": [
        {
          "output_type": "stream",
          "text": [
            "Shape of the CountVectoriser representation:  (24206, 26596)\n",
            "Unique values in the CountVectoriser:  [0 1 2 3 4 5 7 8]\n",
            "Shape of the TfidfVectoriser representation:  (24206, 26596)\n",
            "Unique values in the TfidfVectoriser:  [0.         0.02575169 0.03080617 ... 0.94834091 0.94948511 1.        ]\n"
          ],
          "name": "stdout"
        }
      ]
    },
    {
      "cell_type": "markdown",
      "metadata": {
        "id": "4P-DeEhBw_rf",
        "colab_type": "text"
      },
      "source": [
        "# <font color= \"Blue\" > Data analysis and Model Selection. </font>"
      ]
    },
    {
      "cell_type": "markdown",
      "metadata": {
        "id": "R5FwqzE55D8c",
        "colab_type": "text"
      },
      "source": [
        "## implementPipeline()\n",
        "\n",
        "This Function lets build the pipeline to train a classifier and gives accuracy score on testing dataset, classification report and roc curve."
      ]
    },
    {
      "cell_type": "code",
      "metadata": {
        "id": "pZSTzjOAC8Q5",
        "colab_type": "code",
        "colab": {}
      },
      "source": [
        "def implementPipeline( vect, classifier_obj, Xtrain, Ytrain, Xtest, Ytest, Xvalid, Yvalid,name, if_accuracy=False,if_report = False, plot_roc= False):\n",
        "  pipe = Pipeline([('vect', vect),\n",
        "                #'vect', CountVectorizer()),\n",
        "               ('clf', classifier_obj),\n",
        "              ])\n",
        "  Ytrain = Ytrain.astype('int')\n",
        "  pipe.fit(Xtrain, Ytrain)\n",
        "  probab = pipe.predict_proba(Xtest)\n",
        "  probab = probab[:, 1]\n",
        "  Ypred = pipe.predict(Xtest)\n",
        "  Ypred_train = pipe.predict(Xtrain)\n",
        "  Ycv = pipe.predict(Xvalid)\n",
        "\n",
        "  labels=['real', 'fake']\n",
        "\n",
        "  Ytest = Ytest.astype('int')\n",
        "  Yvalid = Yvalid.astype('int')\n",
        "  if if_accuracy==True:\n",
        "    print('accuracy test %s' % (accuracy_score(Ypred, Ytest)*100))\n",
        "    print('accuracy train %s' % (accuracy_score(Ypred_train, Ytrain)*100))\n",
        "    print('accuracy Validation %s' % (accuracy_score(Ycv, Yvalid)*100))\n",
        "  if if_report==True:\n",
        "    print(\"Classification Report on Test Set \\n\",classification_report(Ytest, Ypred,target_names=labels))\n",
        "    print('Confusion Matrix: \\n', confusion_matrix(Ytest, Ypred))\n",
        "  \n",
        "  if plot_roc == True:\n",
        "    fpr, tpr, _ = roc_curve(Ytest, probab)\n",
        "    auc = roc_auc_score(Ytest, probab)\n",
        "    #plt.figure()\n",
        "    plt.plot(fpr, tpr, marker='.',color='darkorange', label='%s (area = %0.2f)' % (name,auc))\n",
        "    #plt.text(25,5, classification_report(Ytest, Ypred,target_names=labels))\n",
        "    plt.plot([0, 1], [0, 1], linestyle='--',color='navy', label='No learning')\n",
        "    plt.legend(loc=\"lower right\")\n",
        "    plt.title(name+' model' +'\\n accuracy test %s' % round(accuracy_score(Ypred, Ytest)*100,3) + ' \\n accuracy train %s' % round(accuracy_score(Ypred_train, Ytrain)*100,3) + '\\n accuracy Validation %s' % round(accuracy_score(Ycv, Yvalid)*100,3)+ '\\n'+'-'*80+'\\n'+ classification_report(Ytest, Ypred,target_names=labels),fontsize=8)\n",
        "    #plt.show()"
      ],
      "execution_count": 0,
      "outputs": []
    },
    {
      "cell_type": "code",
      "metadata": {
        "id": "Ts4-VAAyDOIl",
        "colab_type": "code",
        "outputId": "f1fb7a2c-4725-4cbe-9775-8b878eac3d5e",
        "colab": {
          "base_uri": "https://localhost:8080/",
          "height": 410
        }
      },
      "source": [
        "fig,ax = plt.subplots(1,2)\n",
        "plt.subplots_adjust(bottom = 0.5,right = 1.5, wspace = 0.2)\n",
        "plt.subplot(1,2,1)\n",
        "implementPipeline( TfidfVectorizer(min_df =1, ), MultinomialNB(alpha=30), df_train['headline'], df_train['is_sarcastic'], df_test['headline'], df_test['is_sarcastic'], df_valid['headline'], df_valid['is_sarcastic'], name ='MNB', plot_roc=True)\n",
        "\n",
        "from sklearn.linear_model import SGDClassifier\n",
        "plt.subplot(1,2,2)\n",
        "implementPipeline( TfidfVectorizer(min_df =1, ), SGDClassifier(loss='log',alpha = 0.25*1e-3), df_train['headline'], df_train['is_sarcastic'], df_test['headline'], df_test['is_sarcastic'], df_valid['headline'], df_valid['is_sarcastic'], name= 'SVM', plot_roc=True)"
      ],
      "execution_count": 0,
      "outputs": [
        {
          "output_type": "display_data",
          "data": {
            "image/png": "[encoded data removed]",
            "text/plain": [
              "<Figure size 640x480 with 2 Axes>"
            ]
          },
          "metadata": {
            "tags": []
          }
        }
      ]
    },
    {
      "cell_type": "markdown",
      "metadata": {
        "id": "Tuf9G7t-zw9q",
        "colab_type": "text"
      },
      "source": [
        "## 1. Presence of stop words: <br>\n",
        "\n",
        "First, by ploting the top twenty words occuring in fake and real news headline, it is observed that the most frequent words are the stop-words like \"to\", \"of\" ,\"the\", etc. These words donot lead to any information gain and is a major contributer when a classification model overfits the textual information.<br> \n",
        "To demonstrate this a simple multinomial naive bayes model is built using *CountVectorizer*. <br>\n",
        "Note: Here TF-TDF vectorizer is not used because inherently it will assign lower weight to stop words which can lower the effect of the presence of stop words."
      ]
    },
    {
      "cell_type": "code",
      "metadata": {
        "id": "S4zFgIV2WT7F",
        "colab_type": "code",
        "colab": {}
      },
      "source": [
        "#function to remove stopwords:\n",
        "def remove_stopword(txt):\n",
        "  txt = ' '.join(word for word in txt.split() if word not in stop_words.ENGLISH_STOP_WORDS)\n",
        "  return txt"
      ],
      "execution_count": 0,
      "outputs": []
    },
    {
      "cell_type": "code",
      "metadata": {
        "id": "Hy32RFjJr_D_",
        "colab_type": "code",
        "outputId": "64532a31-c2b6-4baa-ea75-7127097b6aab",
        "colab": {
          "base_uri": "https://localhost:8080/",
          "height": 566
        }
      },
      "source": [
        "## PLot 20 high frequency words with and without stop words\n",
        "fig,ax = plt.subplots(2,2)\n",
        "plt.subplots_adjust(bottom = 0,right = 1.5, wspace = 0.2, hspace = 0.7)\n",
        "plt.subplot(2,2,1)\n",
        "fake_words = df_train.loc[df_train['is_sarcastic']==1]['headline']\n",
        "fake_words = pd.Series(\" \".join(fake_words).split())\n",
        "fake_words.value_counts()[0:30].plot(kind='bar',\n",
        "      color=['r','g','purple','orange'])#, colormap= cm.get_cmap('summer'));\n",
        "plt.title(\"20 Most Frequent Words in Fake News with StopWords\")\n",
        "\n",
        "plt.subplot(2,2,2)\n",
        "true_words = df_train.loc[df_train['is_sarcastic']==0]['headline']\n",
        "true_words = pd.Series(\" \".join(true_words).split())\n",
        "true_words.value_counts()[0:30].plot(kind='bar', color=['r','g','purple','orange']);\n",
        "plt.title(\"20 Most Frequent Words in Real News with StopWords\")\n",
        "\n",
        "temp_train = df_train.copy() \n",
        "temp_train['headline'] =df_train.headline.apply(remove_stopword) \n",
        "\n",
        "plt.subplot(2,2,3)\n",
        "fake_words = temp_train.loc[temp_train['is_sarcastic']==1]['headline']\n",
        "fake_words = pd.Series(\" \".join(fake_words).split())\n",
        "fake_words.value_counts()[0:30].plot(kind='bar',\n",
        "          color=['r','g','purple','orange'])#, colormap= cm.get_cmap('summer'));\n",
        "plt.title(\"20 Most Frequent Words in Fake News \\n without StopWords\")\n",
        "\n",
        "plt.subplot(2,2,4)\n",
        "true_words = temp_train.loc[temp_train['is_sarcastic']==0]['headline']\n",
        "true_words = pd.Series(\" \".join(true_words).split())\n",
        "true_words.value_counts()[0:30].plot(kind='bar', color=['r','g','purple','orange']);\n",
        "plt.title(\"20 Most Frequent Words in Real News \\n without StopWords\");"
      ],
      "execution_count": 0,
      "outputs": [
        {
          "output_type": "display_data",
          "data": {
            "image/png": "[encoded data removed]",
            "text/plain": [
              "<Figure size 640x480 with 4 Axes>"
            ]
          },
          "metadata": {
            "tags": []
          }
        }
      ]
    },
    {
      "cell_type": "code",
      "metadata": {
        "id": "EgvKLKBWKrWk",
        "colab_type": "code",
        "outputId": "178556a4-d582-4cd3-b36d-1750bde06dc1",
        "colab": {
          "base_uri": "https://localhost:8080/",
          "height": 68
        }
      },
      "source": [
        "#Multinomial NB with stopwords\n",
        "implementPipeline( CountVectorizer(), MultinomialNB(),\n",
        "                  df_train['headline'], df_train['is_sarcastic'],\n",
        "                  df_test['headline'], df_test['is_sarcastic'],\n",
        "                  df_valid['headline'], df_valid['is_sarcastic'],\n",
        "                  name ='MNB', if_accuracy=True)"
      ],
      "execution_count": 0,
      "outputs": [
        {
          "output_type": "stream",
          "text": [
            "accuracy test 84.12921348314607\n",
            "accuracy train 93.36941254234488\n",
            "accuracy Validation 85.25280898876404\n"
          ],
          "name": "stdout"
        }
      ]
    },
    {
      "cell_type": "markdown",
      "metadata": {
        "id": "UzE5u8fST6J4",
        "colab_type": "text"
      },
      "source": [
        "As seen from the above accuracy score, there is a huge gap between training and validation/testing accuracy in presence of stop_word.  The following code implements *CountVectorizer* with argument *stop_words='english'* thus removing the stop_words when text will be tokenized."
      ]
    },
    {
      "cell_type": "code",
      "metadata": {
        "id": "LDHb-MHhK_B3",
        "colab_type": "code",
        "outputId": "079953e8-3628-4a0e-a261-b833edf07412",
        "colab": {
          "base_uri": "https://localhost:8080/",
          "height": 68
        }
      },
      "source": [
        "#Multinomial NB without stopwords\n",
        "implementPipeline( CountVectorizer(stop_words='english'), MultinomialNB(), \n",
        "                  df_train['headline'], df_train['is_sarcastic'], \n",
        "                  df_test['headline'], df_test['is_sarcastic'], \n",
        "                  df_valid['headline'], df_valid['is_sarcastic'], \n",
        "                  name ='MNB', if_accuracy=True)\n"
      ],
      "execution_count": 0,
      "outputs": [
        {
          "output_type": "stream",
          "text": [
            "accuracy test 79.54119850187266\n",
            "accuracy train 91.64256795835743\n",
            "accuracy Validation 80.6179775280899\n"
          ],
          "name": "stdout"
        }
      ]
    },
    {
      "cell_type": "markdown",
      "metadata": {
        "id": "3VklsUK4VxdC",
        "colab_type": "text"
      },
      "source": [
        "As seen from the above accuracy score the training accuracy has been penalised a little bit but still difference in testing and training accuracy is huge and the model is still overfitting the curve.\n",
        "\n",
        "Lets try with different models and see if the overfitting still exist\n",
        "\n"
      ]
    },
    {
      "cell_type": "code",
      "metadata": {
        "id": "BMHvlZk0-yDQ",
        "colab_type": "code",
        "colab": {}
      },
      "source": [
        "import warnings\n",
        "warnings.filterwarnings(\"ignore\", category=ConvergenceWarning)\n",
        "warnings.filterwarnings(\"ignore\", category=FutureWarning)\n",
        "#SettingWithCopyWarning\n",
        "#warnings.filterwarnings(\"ignore\", category=com.SettingWithCopyWarning)"
      ],
      "execution_count": 0,
      "outputs": []
    },
    {
      "cell_type": "code",
      "metadata": {
        "id": "7ICinQEFVwtT",
        "colab_type": "code",
        "outputId": "d0e42751-dec7-4498-f178-a59ccbc12d7e",
        "colab": {
          "base_uri": "https://localhost:8080/",
          "height": 170
        }
      },
      "source": [
        "# SVM without count without stopwords\n",
        "print(\"SVM model scores:\")\n",
        "implementPipeline( CountVectorizer(stop_words='english'), \n",
        "                  SGDClassifier(loss='log'), df_train['headline'], \n",
        "                  df_train['is_sarcastic'], df_test['headline'], \n",
        "                  df_test['is_sarcastic'], df_valid['headline'], \n",
        "                  df_valid['is_sarcastic'], name ='MNB', if_accuracy=True)\n",
        "\n",
        "# Logistic regression without stopwords\n",
        "print(\"\\nLogistic regression model scores:\")\n",
        "implementPipeline( CountVectorizer(stop_words='english'), \n",
        "                  LogisticRegression(solver ='lbfgs',max_iter=100), \n",
        "                  df_train['headline'], df_train['is_sarcastic'], \n",
        "                  df_test['headline'], df_test['is_sarcastic'], \n",
        "                  df_valid['headline'], df_valid['is_sarcastic'], \n",
        "                  name ='MNB', if_accuracy=True)\n"
      ],
      "execution_count": 0,
      "outputs": [
        {
          "output_type": "stream",
          "text": [
            "SVM model scores:\n",
            "accuracy test 78.41760299625467\n",
            "accuracy train 91.82434107246137\n",
            "accuracy Validation 80.4307116104869\n",
            "\n",
            "Logistic regression model scores:\n",
            "accuracy test 79.16666666666666\n",
            "accuracy train 94.92687763364455\n",
            "accuracy Validation 79.82209737827716\n"
          ],
          "name": "stdout"
        }
      ]
    },
    {
      "cell_type": "markdown",
      "metadata": {
        "id": "G7ab5PpXdHA-",
        "colab_type": "text"
      },
      "source": [
        "As seen form the above scores, first from SVM classifier and then from Logistic regression,<font color= \"Blue\" > the overfitting still exists </font>\n",
        "\n"
      ]
    },
    {
      "cell_type": "markdown",
      "metadata": {
        "id": "kxO7MD-khKRG",
        "colab_type": "text"
      },
      "source": [
        "## 2. Hyper-Parameter Tuning (Manual): <br>\n",
        "\n",
        "In this section, we adjust the parameters for various classifiers to overcome overfitting. The basic approach here is to tune parameters specific to classifiers that tend to penalize the classifier and prevent training data memorization. This process is mainly done manually by plugging various values of hyperparameters of different classifiers. Some of the basic parameters that needs to be modified to overcome overfitting are:\n",
        "* Increase regularization in case of Logistic Regression, SVM classifier.\n",
        "* Increase laplace smoothening parameter in case of Multinomial Naive Bayes.\n",
        "* Limit tree depth in case of Decision Tree classifier to decrease variance.\n",
        "* Adjust number of estimators in case of Random forest classifier.<br>\n",
        "etc.\n",
        "\n",
        "After trying various values for above mentioned hyperparamenters below are the optimized hyperparameter values:\n",
        "\n",
        "- For Multinomial NB: alpha = 30\n",
        "- For SVM/SGDClassifier: Regularization paramenter, alpha = 2*1e-3\n",
        "- For Logistic Regression: Regularization parameter, C = 0.5\n",
        "- For Decision Tree: maximum tree depth, max_depth = 30\n",
        "- For Random Forest : number of estimators = 30 and maximum depth = 50\n",
        "\n",
        "\n",
        "Note: For SVM and Logistic regression, regularization paramenter is actually the inverse regularization parameter, i.e smaller the value stronger the regularization\n",
        "\n",
        "\n"
      ]
    },
    {
      "cell_type": "code",
      "metadata": {
        "id": "j-Xl4kCThHUa",
        "colab_type": "code",
        "outputId": "12160a17-e3b1-4cf9-9a3c-6ce94c3d97d8",
        "colab": {
          "base_uri": "https://localhost:8080/",
          "height": 459
        }
      },
      "source": [
        "print('After parameter optimization:')\n",
        "print(\"\\n ************MultinomialNB model scores:***************\")\n",
        "implementPipeline( CountVectorizer(stop_words='english'), MultinomialNB(alpha=30), \n",
        "                  df_train['headline'], df_train['is_sarcastic'], \n",
        "                  df_test['headline'], df_test['is_sarcastic'], \n",
        "                  df_valid['headline'], df_valid['is_sarcastic'], \n",
        "                  name ='MNB', if_accuracy=True)\n",
        "\n",
        "print(\"\\n ****************SVM model scores:********************\")\n",
        "implementPipeline( CountVectorizer(stop_words='english'), SGDClassifier(loss='log',alpha = 2*1e-3), \n",
        "                  df_train['headline'], df_train['is_sarcastic'], \n",
        "                  df_test['headline'], df_test['is_sarcastic'], \n",
        "                  df_valid['headline'], df_valid['is_sarcastic'], \n",
        "                  name ='MNB', if_accuracy=True)\n",
        "\n",
        "print(\"\\n*****************Logistic Regression model scores:****************\")\n",
        "implementPipeline( CountVectorizer(stop_words='english'), LogisticRegression(penalty='l1', max_iter=100, C=0.5), \n",
        "                  df_train['headline'], df_train['is_sarcastic'], \n",
        "                  df_test['headline'], df_test['is_sarcastic'], \n",
        "                  df_valid['headline'], df_valid['is_sarcastic'], \n",
        "                  name ='MNB', if_accuracy=True)\n",
        "\n",
        "print(\"\\n*****************Decision Tree Classifier model scores:**************\")\n",
        "implementPipeline( CountVectorizer(stop_words='english'), DecisionTreeClassifier(max_depth = 30,random_state=1), \n",
        "                  df_train['headline'], df_train['is_sarcastic'], \n",
        "                  df_test['headline'], df_test['is_sarcastic'], \n",
        "                  df_valid['headline'], df_valid['is_sarcastic'], \n",
        "                  name ='MNB', if_accuracy=True)\n",
        "\n",
        "print(\"\\n *****************RandomForest model scores:******************\")\n",
        "implementPipeline( CountVectorizer(stop_words='english'), RandomForestClassifier(n_estimators= 30,max_depth = 50,random_state=0), \n",
        "                  df_train['headline'], df_train['is_sarcastic'], \n",
        "                  df_test['headline'], df_test['is_sarcastic'], \n",
        "                  df_valid['headline'], df_valid['is_sarcastic'], \n",
        "                  name ='MNB', if_accuracy=True)"
      ],
      "execution_count": 0,
      "outputs": [
        {
          "output_type": "stream",
          "text": [
            "After parameter optimization:\n",
            "\n",
            " ************MultinomialNB model scores:***************\n",
            "accuracy test 76.87265917602997\n",
            "accuracy train 82.90093365281335\n",
            "accuracy Validation 79.07303370786516\n",
            "\n",
            " ****************SVM model scores:********************\n",
            "accuracy test 72.3314606741573\n",
            "accuracy train 77.91456663637115\n",
            "accuracy Validation 75.88951310861424\n",
            "\n",
            "*****************Logistic Regression model scores:****************\n",
            "accuracy test 76.17041198501873\n",
            "accuracy train 82.83896554573246\n",
            "accuracy Validation 77.62172284644194\n",
            "\n",
            "*****************Decision Tree Classifier model scores:**************\n",
            "accuracy test 64.09176029962546\n",
            "accuracy train 67.78484673221516\n",
            "accuracy Validation 64.32584269662921\n",
            "\n",
            " *****************RandomForest model scores:******************\n",
            "accuracy test 68.25842696629213\n",
            "accuracy train 76.77435346608279\n",
            "accuracy Validation 70.78651685393258\n"
          ],
          "name": "stdout"
        }
      ]
    },
    {
      "cell_type": "markdown",
      "metadata": {
        "id": "Pw5dwwiD1fik",
        "colab_type": "text"
      },
      "source": [
        "As seen from the above score, although the accuracy scores are not high, <font color=\"Blue\">hyper-parameter tuning has certainly helped lower the overfitting in the models</font>  "
      ]
    },
    {
      "cell_type": "markdown",
      "metadata": {
        "id": "8Fntm7B2iMvo",
        "colab_type": "text"
      },
      "source": [
        "## 3. Experiment with Vectorizer\n",
        "In previous sections, *CountVectorizer* was used. Since the frequency of words donot necessarily provide information gain, we can use *TfidfVectoriser* and achieve better accuracy score. Below output certainly shows some improvement is overall accuracy score. \n",
        "\n",
        "<font color=\"Blue\"> Important Observation:</font> For this particular dataset *TfidfVectorizer* gives comparatively higher accuracy when stopwords are not removed\n"
      ]
    },
    {
      "cell_type": "code",
      "metadata": {
        "id": "rQvUf4FgdGGk",
        "colab_type": "code",
        "outputId": "ffead58e-e3ad-431e-e858-086e099bb1dd",
        "colab": {
          "base_uri": "https://localhost:8080/",
          "height": 459
        }
      },
      "source": [
        "print('Using Optimized hyper-parameters with TfifdVectorizer :')\n",
        "print(\"\\n ************MultinomialNB model scores:***************\")\n",
        "implementPipeline( TfidfVectorizer(min_df=1), MultinomialNB(alpha=10), \n",
        "                  df_train['headline'], df_train['is_sarcastic'], \n",
        "                  df_test['headline'], df_test['is_sarcastic'], \n",
        "                  df_valid['headline'], df_valid['is_sarcastic'], \n",
        "                  name ='MNB', if_accuracy=True)\n",
        "\n",
        "print(\"\\n ****************SVM model scores:********************\")\n",
        "implementPipeline( TfidfVectorizer(min_df=1), SGDClassifier(loss='log',alpha = 0.25*1e-3), \n",
        "                  df_train['headline'], df_train['is_sarcastic'], \n",
        "                  df_test['headline'], df_test['is_sarcastic'], \n",
        "                  df_valid['headline'], df_valid['is_sarcastic'], \n",
        "                  name ='MNB', if_accuracy=True)\n",
        "\n",
        "print(\"\\n*****************Logistic Regression model scores:****************\")\n",
        "implementPipeline( TfidfVectorizer(min_df=1), LogisticRegression(penalty='l1', max_iter=100, C=0.5), \n",
        "                  df_train['headline'], df_train['is_sarcastic'], \n",
        "                  df_test['headline'], df_test['is_sarcastic'], \n",
        "                  df_valid['headline'], df_valid['is_sarcastic'], \n",
        "                  name ='MNB', if_accuracy=True)\n",
        "\n",
        "print(\"\\n*****************Decision Tree Classifier model scores:**************\")\n",
        "implementPipeline( TfidfVectorizer(min_df=1), DecisionTreeClassifier(max_depth = 30,random_state=1), \n",
        "                  df_train['headline'], df_train['is_sarcastic'], \n",
        "                  df_test['headline'], df_test['is_sarcastic'], \n",
        "                  df_valid['headline'], df_valid['is_sarcastic'], \n",
        "                  name ='MNB', if_accuracy=True)\n",
        "\n",
        "print(\"\\n *****************RandomForest model scores:******************\")\n",
        "implementPipeline( TfidfVectorizer(min_df=1), RandomForestClassifier(n_estimators= 30,max_depth = 35,random_state=0), \n",
        "                  df_train['headline'], df_train['is_sarcastic'], \n",
        "                  df_test['headline'], df_test['is_sarcastic'], \n",
        "                  df_valid['headline'], df_valid['is_sarcastic'], \n",
        "                  name ='MNB', if_accuracy=True)"
      ],
      "execution_count": 0,
      "outputs": [
        {
          "output_type": "stream",
          "text": [
            "Using Optimized hyper-parameters with TfifdVectorizer :\n",
            "\n",
            " ************MultinomialNB model scores:***************\n",
            "accuracy test 79.44756554307116\n",
            "accuracy train 84.85912583656945\n",
            "accuracy Validation 80.80524344569288\n",
            "\n",
            " ****************SVM model scores:********************\n",
            "accuracy test 81.78838951310861\n",
            "accuracy train 85.63579277864991\n",
            "accuracy Validation 83.19288389513109\n",
            "\n",
            "*****************Logistic Regression model scores:****************\n",
            "accuracy test 77.99625468164794\n",
            "accuracy train 81.83921341816078\n",
            "accuracy Validation 81.32022471910112\n",
            "\n",
            "*****************Decision Tree Classifier model scores:**************\n",
            "accuracy test 72.98689138576779\n",
            "accuracy train 80.343716433942\n",
            "accuracy Validation 73.97003745318352\n",
            "\n",
            " *****************RandomForest model scores:******************\n",
            "accuracy test 76.26404494382022\n",
            "accuracy train 83.66933818061638\n",
            "accuracy Validation 76.87265917602997\n"
          ],
          "name": "stdout"
        }
      ]
    },
    {
      "cell_type": "markdown",
      "metadata": {
        "id": "Rb1tV_Twogpw",
        "colab_type": "text"
      },
      "source": [
        "## 4. Selecting Maximum Number of Features:\n",
        "\n",
        "It can be observed from the data that major problem here is overfitting. So another approach  to penalize classifier is limiting number of features. In this way classifier has less features to work with and hence makes the training split more dense. \n",
        "\n",
        "Now the next question is how do we choose this paramenter?<br>\n",
        "This question can be addressed by finding average size of the headlines in fake and real news. Below code plots the box plot of length of the headlines by adding an extra feature to the training dataframe i.e. _\"news_len\"_.\n"
      ]
    },
    {
      "cell_type": "code",
      "metadata": {
        "id": "M10ChwKvqavL",
        "colab_type": "code",
        "colab": {}
      },
      "source": [
        "df_train['news_len'] = [len(line) for line in df_train.headline]\n",
        "\n"
      ],
      "execution_count": 0,
      "outputs": []
    },
    {
      "cell_type": "code",
      "metadata": {
        "id": "7TX6sXJdJKu_",
        "colab_type": "code",
        "outputId": "25339e16-6026-456b-f9c1-001834070308",
        "colab": {
          "base_uri": "https://localhost:8080/",
          "height": 204
        }
      },
      "source": [
        "df_train.head()"
      ],
      "execution_count": 0,
      "outputs": [
        {
          "output_type": "execute_result",
          "data": {
            "text/html": [
              "<div>\n",
              "<style scoped>\n",
              "    .dataframe tbody tr th:only-of-type {\n",
              "        vertical-align: middle;\n",
              "    }\n",
              "\n",
              "    .dataframe tbody tr th {\n",
              "        vertical-align: top;\n",
              "    }\n",
              "\n",
              "    .dataframe thead th {\n",
              "        text-align: right;\n",
              "    }\n",
              "</style>\n",
              "<table border=\"1\" class=\"dataframe\">\n",
              "  <thead>\n",
              "    <tr style=\"text-align: right;\">\n",
              "      <th></th>\n",
              "      <th>headline</th>\n",
              "      <th>is_sarcastic</th>\n",
              "      <th>news_len</th>\n",
              "    </tr>\n",
              "  </thead>\n",
              "  <tbody>\n",
              "    <tr>\n",
              "      <th>5046</th>\n",
              "      <td>all the sleepy hollow season  intel you can ha...</td>\n",
              "      <td>0</td>\n",
              "      <td>50</td>\n",
              "    </tr>\n",
              "    <tr>\n",
              "      <th>20215</th>\n",
              "      <td>anonymous source informs bob woodward he hasnt...</td>\n",
              "      <td>1</td>\n",
              "      <td>70</td>\n",
              "    </tr>\n",
              "    <tr>\n",
              "      <th>18383</th>\n",
              "      <td>jennifer lopezs new video is a sad premonition...</td>\n",
              "      <td>0</td>\n",
              "      <td>72</td>\n",
              "    </tr>\n",
              "    <tr>\n",
              "      <th>22775</th>\n",
              "      <td>suzanne somers named us thighmaster general</td>\n",
              "      <td>1</td>\n",
              "      <td>43</td>\n",
              "    </tr>\n",
              "    <tr>\n",
              "      <th>15038</th>\n",
              "      <td>the brawny man is the brawny woman for womens ...</td>\n",
              "      <td>0</td>\n",
              "      <td>59</td>\n",
              "    </tr>\n",
              "  </tbody>\n",
              "</table>\n",
              "</div>"
            ],
            "text/plain": [
              "                                                headline  ...  news_len\n",
              "5046   all the sleepy hollow season  intel you can ha...  ...        50\n",
              "20215  anonymous source informs bob woodward he hasnt...  ...        70\n",
              "18383  jennifer lopezs new video is a sad premonition...  ...        72\n",
              "22775        suzanne somers named us thighmaster general  ...        43\n",
              "15038  the brawny man is the brawny woman for womens ...  ...        59\n",
              "\n",
              "[5 rows x 3 columns]"
            ]
          },
          "metadata": {
            "tags": []
          },
          "execution_count": 99
        }
      ]
    },
    {
      "cell_type": "code",
      "metadata": {
        "id": "zg1mT6WQdFGN",
        "colab_type": "code",
        "outputId": "90f93ad6-6763-43f0-bf8d-4d5bd37a9e72",
        "colab": {
          "base_uri": "https://localhost:8080/",
          "height": 409
        }
      },
      "source": [
        "fig,ax = plt.subplots(1,2)\n",
        "plt.subplots_adjust(bottom = 0.2,right = 1.5, wspace = 0.2, hspace = 0.7)\n",
        "plt.subplot(1,2,1)\n",
        "plt.boxplot(df_train.news_len[df_train.is_sarcastic == 1])\n",
        "plt.title('Fake')\n",
        "\n",
        "plt.subplot(1,2,2)\n",
        "plt.boxplot(df_train.news_len[df_train.is_sarcastic == 0])         \n",
        "plt.title('Real');"
      ],
      "execution_count": 0,
      "outputs": [
        {
          "output_type": "display_data",
          "data": {
            "image/png": "[encoded data removed]",
            "text/plain": [
              "<Figure size 640x480 with 2 Axes>"
            ]
          },
          "metadata": {
            "tags": []
          }
        }
      ]
    },
    {
      "cell_type": "markdown",
      "metadata": {
        "id": "HW8U7G6iq5kE",
        "colab_type": "text"
      },
      "source": [
        "It can be easily observed that there's a <font color=\"blue\">huge outlier with more than 800 charachter length </font> and on an average, the news length lies around 60 charachter. Here max charachter length of 250 is selected which is approximately equal to the second highest value of headline length and model has been fit on this width of the vectorizer.\n"
      ]
    },
    {
      "cell_type": "code",
      "metadata": {
        "id": "CscoQ4fSqTwj",
        "colab_type": "code",
        "outputId": "a78ae1db-7e18-4128-cfe9-3637baa1db67",
        "colab": {
          "base_uri": "https://localhost:8080/",
          "height": 459
        }
      },
      "source": [
        "print('Using Optimized hyper-parameters with TfifdVectorizer and max_features :')\n",
        "print(\"\\n ************MultinomialNB model scores:***************\")\n",
        "m_x = 250\n",
        "implementPipeline( TfidfVectorizer(min_df=1, max_features=m_x), MultinomialNB(alpha=5), \n",
        "                  df_train['headline'], df_train['is_sarcastic'], \n",
        "                  df_test['headline'], df_test['is_sarcastic'], \n",
        "                  df_valid['headline'], df_valid['is_sarcastic'], \n",
        "                  name ='MNB', if_accuracy=True)\n",
        "\n",
        "print(\"\\n ****************SVM model scores:********************\")\n",
        "implementPipeline( TfidfVectorizer(min_df=1, max_features=m_x), SGDClassifier(loss='log',alpha = 0.25*1e-2), \n",
        "                  df_train['headline'], df_train['is_sarcastic'], \n",
        "                  df_test['headline'], df_test['is_sarcastic'], \n",
        "                  df_valid['headline'], df_valid['is_sarcastic'], \n",
        "                  name ='MNB', if_accuracy=True)\n",
        "\n",
        "print(\"\\n*****************Logistic Regression model scores:****************\")\n",
        "implementPipeline( TfidfVectorizer(min_df=1, max_features=m_x), LogisticRegression(penalty='l1', max_iter=100, C=0.5), \n",
        "                  df_train['headline'], df_train['is_sarcastic'], \n",
        "                  df_test['headline'], df_test['is_sarcastic'], \n",
        "                  df_valid['headline'], df_valid['is_sarcastic'], \n",
        "                  name ='MNB', if_accuracy=True)\n",
        "\n",
        "print(\"\\n*****************Decision Tree Classifier model scores:**************\")\n",
        "implementPipeline( TfidfVectorizer(min_df=1, max_features=m_x), DecisionTreeClassifier(max_depth = 30,random_state=1), \n",
        "                  df_train['headline'], df_train['is_sarcastic'], \n",
        "                  df_test['headline'], df_test['is_sarcastic'], \n",
        "                  df_valid['headline'], df_valid['is_sarcastic'], \n",
        "                  name ='MNB', if_accuracy=True)\n",
        "\n",
        "print(\"\\n *****************RandomForest model scores:******************\")\n",
        "implementPipeline( TfidfVectorizer(min_df=1, max_features=m_x), RandomForestClassifier(n_estimators= 40,max_depth = 35,random_state=0), \n",
        "                  df_train['headline'], df_train['is_sarcastic'], \n",
        "                  df_test['headline'], df_test['is_sarcastic'], \n",
        "                  df_valid['headline'], df_valid['is_sarcastic'], \n",
        "                  name ='MNB', if_accuracy=True)"
      ],
      "execution_count": 0,
      "outputs": [
        {
          "output_type": "stream",
          "text": [
            "Using Optimized hyper-parameters with TfifdVectorizer and max_features :\n",
            "\n",
            " ************MultinomialNB model scores:***************\n",
            "accuracy test 75.56179775280899\n",
            "accuracy train 75.3903990746096\n",
            "accuracy Validation 76.63857677902621\n",
            "\n",
            " ****************SVM model scores:********************\n",
            "accuracy test 75.32771535580525\n",
            "accuracy train 75.29951251755763\n",
            "accuracy Validation 77.34082397003745\n",
            "\n",
            "*****************Logistic Regression model scores:****************\n",
            "accuracy test 76.68539325842697\n",
            "accuracy train 77.1255060728745\n",
            "accuracy Validation 77.43445692883894\n",
            "\n",
            "*****************Decision Tree Classifier model scores:**************\n",
            "accuracy test 71.44194756554307\n",
            "accuracy train 78.84821944972322\n",
            "accuracy Validation 72.00374531835206\n",
            "\n",
            " *****************RandomForest model scores:******************\n",
            "accuracy test 75.09363295880149\n",
            "accuracy train 81.67809633975047\n",
            "accuracy Validation 75.56179775280899\n"
          ],
          "name": "stdout"
        }
      ]
    },
    {
      "cell_type": "markdown",
      "metadata": {
        "id": "n6GesJA1uwpP",
        "colab_type": "text"
      },
      "source": [
        "It can be easily observed from the above accuracy scores that although the accuracy value is lower,<font color='blue'> model is not overfitting for MultinomialNB, SVM and Logistic Regression</font> \n",
        "\n",
        "Based on this observation, these three models will be analysed further to do model selection"
      ]
    },
    {
      "cell_type": "markdown",
      "metadata": {
        "id": "5mssMztS-9an",
        "colab_type": "text"
      },
      "source": [
        "## 5. Hyper-Paramenter Tuning using Grid Search Cross-validation: <br>\n",
        "\n",
        "One of the most commom approach used for training machin learning algorithm is *Cross-validation*.\n",
        "Sickit learn library provides a way to fine tune the hyperparameters using N-fold Cross Validation Approach. In this approach basically the training data is subdivided divided into training and validation split internally and then at every step of training, they are optimised for the range of values of hyperparameters given. This is a exhaustive approach to find best hyperparameter with specified estimator/classifier. This approach of training is particularly effective because the classifier is trained k different times on different train-test split and hence contains very less bais. This approach is particularly useful when data is limited.\n",
        "\n",
        "In this case 10-fold cross-validation is used to find best parameters. Below are the results of GridSearchCV on MultinomialNB, SVM and Logistic regression. "
      ]
    },
    {
      "cell_type": "code",
      "metadata": {
        "id": "TofOdFMTznQn",
        "colab_type": "code",
        "outputId": "4da73298-8131-4839-d111-01c0c35bb552",
        "colab": {
          "base_uri": "https://localhost:8080/",
          "height": 68
        }
      },
      "source": [
        "dep =np.arange(1,10,0.5)\n",
        "param_grid = {'alpha':dep}\n",
        "#param_grid = {'loss':loss_va}\n",
        "\n",
        "mnb = MultinomialNB()\n",
        "mnb_cv = GridSearchCV(mnb, param_grid = param_grid, cv=10)\n",
        "mnb_cv.fit(tfidf_vect_fit,df_train['is_sarcastic'])\n",
        "xt = tfidf_vect.transform(df_test['headline'])\n",
        "pred_t =  mnb_cv.predict(xt)\n",
        "print (\"Tuned MultinomialNB paramenter: \", format(mnb_cv.best_params_))\n",
        "\n",
        "print (\"Best Score is: \", format(mnb_cv.best_score_))\n",
        "print(\"test acc: \", accuracy_score(df_test['is_sarcastic'],pred_t))\n"
      ],
      "execution_count": 0,
      "outputs": [
        {
          "output_type": "stream",
          "text": [
            "Tuned MultinomialNB paramenter:  {'alpha': 1.0}\n",
            "Best Score is:  0.8317772453110799\n",
            "test acc:  0.8216292134831461\n"
          ],
          "name": "stdout"
        }
      ]
    },
    {
      "cell_type": "code",
      "metadata": {
        "id": "QNy-LCKEuv2T",
        "colab_type": "code",
        "outputId": "5b562b27-2283-4f2d-cec4-958b425bfc96",
        "colab": {
          "base_uri": "https://localhost:8080/",
          "height": 68
        }
      },
      "source": [
        "dep =np.arange(1e-5,1e-2,1e-3)\n",
        "loss_va = ['hinge', 'log', 'modified_huber', 'squared_hinge', 'perceptron']\n",
        "param_grid = {'alpha':dep, 'loss':loss_va }\n",
        "#param_grid = {'loss':loss_va}\n",
        "\n",
        "svm = SGDClassifier()\n",
        "svm_cv = GridSearchCV(svm, param_grid = param_grid, cv=10)\n",
        "svm_cv.fit(tfidf_vect_fit,df_train['is_sarcastic'])\n",
        "xt = tfidf_vect.transform(df_test['headline'])\n",
        "pred_t =  svm_cv.predict(xt)\n",
        "print (\"Tuned SVM paramenter: \", format(svm_cv.best_params_))\n",
        "\n",
        "print (\"Best Score is: \", format(svm_cv.best_score_))\n",
        "print(\"test acc: \", accuracy_score(df_test['is_sarcastic'],pred_t))"
      ],
      "execution_count": 0,
      "outputs": [
        {
          "output_type": "stream",
          "text": [
            "Tuned SVM paramenter:  {'alpha': 1e-05, 'loss': 'log'}\n",
            "Best Score is:  0.8443361150128067\n",
            "test acc:  0.8384831460674157\n"
          ],
          "name": "stdout"
        }
      ]
    },
    {
      "cell_type": "code",
      "metadata": {
        "id": "P2RrRv6Rsnxh",
        "colab_type": "code",
        "outputId": "9e7b177b-42ff-4280-a364-46b6464bb416",
        "colab": {
          "base_uri": "https://localhost:8080/",
          "height": 68
        }
      },
      "source": [
        "dep =np.arange(1,20,0.1)\n",
        "ite =np.arange(100,500,100)\n",
        "reg = ['l1', 'l2']\n",
        "#param_grid = {'alpha':dep}\n",
        "#param_grid = {'penalty':reg, 'C':dep, 'max_iter':ite}\n",
        "param_grid = {'C':dep}\n",
        "\n",
        "LG = LogisticRegression(max_iter= 100)\n",
        "LG_cv = GridSearchCV(LG, param_grid = param_grid, cv=10)\n",
        "LG_cv.fit(tfidf_vect_fit,df_train['is_sarcastic'])\n",
        "xt = tfidf_vect.transform(df_test['headline'])\n",
        "pred_t =  LG_cv.predict(xt)\n",
        "print (\"Tuned Logistic Regression paramenter: \", format(LG_cv.best_params_))\n",
        "\n",
        "print (\"Best Score is: \", format(LG_cv.best_score_))\n",
        "print(\"test acc: \", accuracy_score(df_test['is_sarcastic'],pred_t))"
      ],
      "execution_count": 0,
      "outputs": [
        {
          "output_type": "stream",
          "text": [
            "Tuned Logistic Regression paramenter:  {'C': 3.300000000000002}\n",
            "Best Score is:  0.8459885978682972\n",
            "test acc:  0.8408239700374532\n"
          ],
          "name": "stdout"
        }
      ]
    },
    {
      "cell_type": "markdown",
      "metadata": {
        "id": "4D28TkDFTFTU",
        "colab_type": "text"
      },
      "source": [
        "It can be observed that the overall accuracy of all the models has improved significantly. Thus Cross-validation is an effective way of generalizing classifiers on training data."
      ]
    },
    {
      "cell_type": "markdown",
      "metadata": {
        "id": "NMRablRKdhIa",
        "colab_type": "text"
      },
      "source": [
        "# <font color=\"Blue\">Model Selection</font>\n"
      ]
    },
    {
      "cell_type": "markdown",
      "metadata": {
        "id": "YyorrDgUHZ73",
        "colab_type": "text"
      },
      "source": [
        "## ROC Curve and AUC\n",
        "\n",
        "Reciever Operating Characteristic (ROC) Curve gives a measure of performance of the classification model in terms True Positive Rate (aka recall) (TPR) and False Positive Rate (FPR). The ROC curve is basically a TPR vs FPR plot, where lower calssification threshold values results in classifier detecting more examples as positive.\n",
        "\n",
        "<img src=\"https://developers.google.com/machine-learning/crash-course/images/ROCCurve.svg\" alt=\"drawing\" width=\"300\"/>\n",
        "\n",
        "Area under curve basically defines the performance of models irrespective of the classification threshold. For poorly trained classifier AUC tends to be equal to 0.0 , whereas a good classfier results in value close to 1.0.\n",
        "\n",
        "<img src=\"https://developers.google.com/machine-learning/crash-course/images/AUC.svg\" alt=\"drawing\" width=\"300\"/>\n",
        "\n",
        "Lets Find the ROC curve of the trained classifier based on the Testing data."
      ]
    },
    {
      "cell_type": "code",
      "metadata": {
        "id": "Q7uWoUtwOtJe",
        "colab_type": "code",
        "outputId": "0d23202b-4e72-4864-b7f6-f1f50daebf85",
        "colab": {
          "base_uri": "https://localhost:8080/",
          "height": 243
        }
      },
      "source": [
        "fig,ax = plt.subplots(1,3)\n",
        "plt.subplots_adjust(bottom = 0.5,right = 1.5, wspace = 0.2, hspace = 0.7)\n",
        "\n",
        "prob_mnb = mnb_cv.predict_proba(tfidf_vect.transform(df_valid['headline']))\n",
        "probab_mnb = prob_mnb[:, 1]\n",
        "fpr_mnb, tpr_mnb, _ = roc_curve(df_valid['is_sarcastic'], probab_mnb)\n",
        "auc_mnb = roc_auc_score(df_valid['is_sarcastic'], probab_mnb)\n",
        "\n",
        "plt.subplot(1,3,1)\n",
        "plt.plot(fpr_mnb, tpr_mnb, marker='.',color='darkorange', label='%s (area = %0.2f)' % ('MNB',auc_mnb))\n",
        "plt.plot([0, 1], [0, 1], linestyle='--',color='navy', label='No learning')\n",
        "plt.legend(loc=\"lower right\")\n",
        "\n",
        "prob_svm = svm_cv.predict_proba(tfidf_vect.transform(df_valid['headline']))\n",
        "probab_svm = prob_svm[:, 1]\n",
        "fpr_svm, tpr_svm, _ = roc_curve(df_valid['is_sarcastic'], probab_svm)\n",
        "auc_svm = roc_auc_score(df_valid['is_sarcastic'], probab_svm)\n",
        "\n",
        "plt.subplot(1,3,2)\n",
        "plt.plot(fpr_svm, tpr_svm, marker='.',color='darkorange', label='%s (area = %0.2f)' % ('svm',auc_svm))\n",
        "plt.plot([0, 1], [0, 1], linestyle='--',color='navy', label='No learning')\n",
        "plt.legend(loc=\"lower right\")\n",
        "\n",
        "prob_LG = LG_cv.predict_proba(tfidf_vect.transform(df_valid['headline']))\n",
        "probab_LG = prob_LG[:, 1]\n",
        "fpr_LG, tpr_LG, _ = roc_curve(df_valid['is_sarcastic'], probab_LG)\n",
        "auc_LG = roc_auc_score(df_valid['is_sarcastic'], probab_LG)\n",
        "\n",
        "plt.subplot(1,3,3)\n",
        "plt.plot(fpr_LG, tpr_LG, marker='.',color='darkorange', label='%s (area = %0.2f)' % ('LG',auc_LG))\n",
        "plt.plot([0, 1], [0, 1], linestyle='--',color='navy', label='No learning')\n",
        "plt.legend(loc=\"lower right\");"
      ],
      "execution_count": 0,
      "outputs": [
        {
          "output_type": "display_data",
          "data": {
            "image/png": "[encoded data removed]",
            "text/plain": [
              "<Figure size 640x480 with 3 Axes>"
            ]
          },
          "metadata": {
            "tags": []
          }
        }
      ]
    },
    {
      "cell_type": "markdown",
      "metadata": {
        "id": "1cWa2OEaUnFo",
        "colab_type": "text"
      },
      "source": [
        "As seen from above ROC curves and AUC , all the chosen classifiers perform equally well on the testing data. Lets plot the confusion matrix for all the classifiers now."
      ]
    },
    {
      "cell_type": "code",
      "metadata": {
        "id": "lOYZ4wP1W-Jr",
        "colab_type": "code",
        "outputId": "85a1d2af-07f5-4d81-f83e-acc0259e91a4",
        "colab": {
          "base_uri": "https://localhost:8080/",
          "height": 680
        }
      },
      "source": [
        "from sklearn.metrics import confusion_matrix\n",
        "\n",
        "labels = ['real', 'fake']\n",
        "cm = confusion_matrix(df_valid['is_sarcastic'], mnb_cv.predict(tfidf_vect.transform(df_valid['headline'])))\n",
        "print( \"CM for MNB:\\n\",cm)\n",
        "print(\"Classification Report on Test Set For MNB \\n\",classification_report(df_valid['is_sarcastic'], mnb_cv.predict(tfidf_vect.transform(df_valid['headline'])),target_names=labels))\n",
        "\n",
        "cm = confusion_matrix(df_valid['is_sarcastic'], svm_cv.predict(tfidf_vect.transform(df_valid['headline'])))\n",
        "print( \"CM for SVM:\\n\",cm)\n",
        "print(\"Classification Report on Test Set For SVM\\n\",classification_report(df_valid['is_sarcastic'], svm_cv.predict(tfidf_vect.transform(df_valid['headline'])),target_names=labels))\n",
        "\n",
        "\n",
        "cm = confusion_matrix(df_valid['is_sarcastic'], LG_cv.predict(tfidf_vect.transform(df_valid['headline'])))\n",
        "print( \"CM for LG:\\n\",cm)\n",
        "print(\"Classification Report on Test Set For LG \\n\",classification_report(df_valid['is_sarcastic'], LG_cv.predict(tfidf_vect.transform(df_valid['headline'])),target_names=labels))\n",
        "\n"
      ],
      "execution_count": 0,
      "outputs": [
        {
          "output_type": "stream",
          "text": [
            "CM for MNB:\n",
            " [[1003  116]\n",
            " [ 216  801]]\n",
            "Classification Report on Test Set For MNB \n",
            "               precision    recall  f1-score   support\n",
            "\n",
            "        real       0.82      0.90      0.86      1119\n",
            "        fake       0.87      0.79      0.83      1017\n",
            "\n",
            "    accuracy                           0.84      2136\n",
            "   macro avg       0.85      0.84      0.84      2136\n",
            "weighted avg       0.85      0.84      0.84      2136\n",
            "\n",
            "CM for SVM:\n",
            " [[938 181]\n",
            " [129 888]]\n",
            "Classification Report on Test Set For SVM\n",
            "               precision    recall  f1-score   support\n",
            "\n",
            "        real       0.88      0.84      0.86      1119\n",
            "        fake       0.83      0.87      0.85      1017\n",
            "\n",
            "    accuracy                           0.85      2136\n",
            "   macro avg       0.85      0.86      0.85      2136\n",
            "weighted avg       0.86      0.85      0.85      2136\n",
            "\n",
            "CM for LG:\n",
            " [[944 175]\n",
            " [138 879]]\n",
            "Classification Report on Test Set For LG \n",
            "               precision    recall  f1-score   support\n",
            "\n",
            "        real       0.87      0.84      0.86      1119\n",
            "        fake       0.83      0.86      0.85      1017\n",
            "\n",
            "    accuracy                           0.85      2136\n",
            "   macro avg       0.85      0.85      0.85      2136\n",
            "weighted avg       0.85      0.85      0.85      2136\n",
            "\n"
          ],
          "name": "stdout"
        }
      ]
    },
    {
      "cell_type": "markdown",
      "metadata": {
        "id": "5DxMVH3gcoz7",
        "colab_type": "text"
      },
      "source": [
        "<font color=\"blue\">For Multinomial NB:</font><br>\n",
        "Out of 1119 positive examples in test set *(df_valid)* <font color=\"blue\"> 1003 were detected as positive </font>and 116 as negative. Whereas Out of 1017 negative examples in test set *(df_valid)* 801 were detected as negative and 216 as positive. \n",
        "\n",
        "<font color=\"blue\">For SVM:</font><br>\n",
        "Out of 1119 positive examples in test set *(df_valid)* <font color=\"blue\">938 were detected as positive </font>and 181 as negative. Whereas Out of 1017 negative examples in test set *(df_valid)* 888 were detected as negative and 129 as positive. \n",
        "\n",
        "<font color=\"blue\">For Logitic Regression:</font><br>\n",
        "Out of 1119 positive examples in test set *(df_valid)* <font color=\"blue\">944 were detected as positive </font>and 175 as negative. Whereas Out of 1017 negative examples in test set *(df_valid)* 879 were detected as negative and 138 as positive.\n",
        "\n",
        "\n",
        "The aim of the task is to detect the fake news and hence here True positives matters the most i.e. ability of classifier to detect fake news. Considering this assumption MultinomialNB performs a little better than SVM and Logistic Regression.\n",
        "\n",
        "Overall, all three models gives respectable F1 score and respectable accuracy scores as well.\n",
        "\n",
        "\n",
        "\n"
      ]
    },
    {
      "cell_type": "markdown",
      "metadata": {
        "id": "6no9DS5WllTq",
        "colab_type": "text"
      },
      "source": [
        "### Saving All three models using Pickle."
      ]
    },
    {
      "cell_type": "code",
      "metadata": {
        "id": "y2s3b109Fh0M",
        "colab_type": "code",
        "colab": {}
      },
      "source": [
        "import pickle\n",
        "filename = '/content/drive/My Drive/Fake_news_detect_op/MutinomialNB_final_model.sav'\n",
        "pickle.dump(mnb_cv, open(filename, 'wb'))\n",
        "filename = '/content/drive/My Drive/Fake_news_detect_op/SVM_final_model.sav'\n",
        "pickle.dump(svm_cv, open(filename, 'wb'))\n",
        "filename = '/content/drive/My Drive/Fake_news_detect_op/Logistic_reg_final_model.sav'\n",
        "pickle.dump(LG_cv, open(filename, 'wb'))"
      ],
      "execution_count": 0,
      "outputs": []
    },
    {
      "cell_type": "markdown",
      "metadata": {
        "id": "ffB2YPrwpAvc",
        "colab_type": "text"
      },
      "source": [
        "# <font color = 'Blue'>Feature Extraction using Word Embeddings</font><br>\n",
        "\n",
        "As explained above, word embeddings provide much more dense and rich feature extraction from textual data compared to BoW. There are two aproaches which can be used to learn word embedding from the textual data as below:\n",
        "\n",
        "1. We can learn embedding layer while training a neural network. This approach is computationally expensive. \n",
        "\n",
        "2. Another approach is to use prelearned embeddings. Using word2vec pre-trained on the huge word corpus can be more beneficial and will require only neural network specific parameters to be trained. Some of the most famous word embedding matrices like GloVe, fastText,etc. can be used to train neural network. However, this approach lacks domain specific knowledge and can give low accuracy on domain specific termnologies and word associations."
      ]
    },
    {
      "cell_type": "code",
      "metadata": {
        "id": "XUhDYGKso-gs",
        "colab_type": "code",
        "outputId": "70d320dc-97ec-45c4-d617-6b033be5d5a9",
        "colab": {
          "base_uri": "https://localhost:8080/",
          "height": 34
        }
      },
      "source": [
        "Xtrain = df_train['headline']\n",
        "Xtest = df_test['headline']\n",
        "Ytrain = df_train['is_sarcastic']\n",
        "Ytest = df_test['is_sarcastic']\n",
        "total_news = pd.concat([Xtrain,Xtest], axis=0)\n",
        "len(total_news)"
      ],
      "execution_count": 0,
      "outputs": [
        {
          "output_type": "execute_result",
          "data": {
            "text/plain": [
              "26342"
            ]
          },
          "metadata": {
            "tags": []
          },
          "execution_count": 30
        }
      ]
    },
    {
      "cell_type": "markdown",
      "metadata": {
        "id": "GR2EZVeJvNy3",
        "colab_type": "text"
      },
      "source": [
        "# Learning Word Embedding Layer\n",
        "\n",
        "Keras provides word embedding layer which can then be used to feed Recurrent Nueral Network/Gated Recurrent Unit to learn a classifier for this task. RNN has been chosen considering its success in natural language processing tasks.\n",
        "\n"
      ]
    },
    {
      "cell_type": "markdown",
      "metadata": {
        "id": "GX_ls_m3uglE",
        "colab_type": "text"
      },
      "source": [
        "## Steps to train Neural Network\n",
        "1. Tokenize the headlines i.e. decompose headline into list of words in the headline.\n",
        "2. Convert Word tokens into sequences i.e. assigning unique numbers to the words in each headline\n",
        "\n",
        "3. Add zeros as padding to the columns to equalize the matrix width.  \n",
        "4. Build a Neural network using Keras\n",
        "5. Fit the model by choosing hyperparameters."
      ]
    },
    {
      "cell_type": "code",
      "metadata": {
        "id": "f-LxYPzz2V29",
        "colab_type": "code",
        "colab": {}
      },
      "source": [
        "from tensorflow.keras.preprocessing.text import Tokenizer\n",
        "from tensorflow.keras.preprocessing.sequence import  pad_sequences"
      ],
      "execution_count": 0,
      "outputs": []
    },
    {
      "cell_type": "code",
      "metadata": {
        "id": "KjAVD6IBt8S1",
        "colab_type": "code",
        "outputId": "7cb10da1-cf7e-4e14-ca2b-35f7af4e0f0b",
        "colab": {
          "base_uri": "https://localhost:8080/",
          "height": 34
        }
      },
      "source": [
        "tokenizer_obj = Tokenizer();\n",
        "total_news = pd.concat([Xtrain , Xtest], axis=0);\n",
        "tokenizer_obj.fit_on_texts(total_news)\n",
        "\n",
        "max_len = max(len(s.split()) for s in total_news);\n",
        "\n",
        "vocab_size = len(tokenizer_obj.word_index) + 1\n",
        "\n",
        "print(max_len, vocab_size)\n",
        "\n",
        "\n",
        "Xtrain_tokens = tokenizer_obj.texts_to_sequences(Xtrain);\n",
        "#print (Xtrain_tokens)\n",
        "Xtest_tokens = tokenizer_obj.texts_to_sequences(Xtest);\n",
        "\n",
        "Xtrain_pad = pad_sequences(Xtrain_tokens, maxlen=max_len, padding = 'post')\n",
        "Xtest_pad = pad_sequences(Xtest_tokens, maxlen=max_len, padding = 'post')"
      ],
      "execution_count": 0,
      "outputs": [
        {
          "output_type": "stream",
          "text": [
            "151 27769\n"
          ],
          "name": "stdout"
        }
      ]
    },
    {
      "cell_type": "markdown",
      "metadata": {
        "id": "86QMb2OpKqVl",
        "colab_type": "text"
      },
      "source": [
        "### Keras Model:\n",
        "Below is the model that has been used for training:\n",
        "\n",
        "|Embedding layer ---> GRU Layer ---> SimpleRNN layer ---> Dense Layer --> Output| \n",
        "--------------------------------------------------------------------------\n",
        "\n",
        "In GRU layer: 256 units were used with a dropout of 0.1 to contain overfitting.\n",
        "\n",
        "In SimpleRNN Layer: 128 units were used\n",
        "\n",
        "In Dense layer: sigmoid activation was used because this is a binary classfication problem.\n",
        "\n",
        "For training: 'Adam' Optimzer was used because of the simple fact that it converges better than Gradient descent in RNNs.\n",
        "\n",
        "Note: The network hyperparameters like number of units and amount of dropout were chosen by substituting values to get the optimized training.\n"
      ]
    },
    {
      "cell_type": "code",
      "metadata": {
        "id": "cr1-BbxOvJxt",
        "colab_type": "code",
        "outputId": "69db644b-f96c-4243-ab9f-171bbff1f97b",
        "colab": {
          "base_uri": "https://localhost:8080/",
          "height": 255
        }
      },
      "source": [
        "from keras.models import Sequential\n",
        "from keras.layers import Dense, Embedding, LSTM, GRU, SimpleRNN\n",
        "from keras.layers.embeddings import Embedding\n",
        "\n",
        "EMBEDDING_DIM = 100\n",
        "\n",
        "model = Sequential();\n",
        "model.add(Embedding(vocab_size, EMBEDDING_DIM, input_length = max_len))\n",
        "model.add(GRU(units = 128, dropout=0.1))#, return_sequences=True))\n",
        "#model.add(SimpleRNN(units= 128))\n",
        "model.add(Dense(1, activation='sigmoid'))\n",
        "\n",
        "model.compile(loss='binary_crossentropy', optimizer='adam', metrics = ['accuracy'])\n",
        "model.summary()"
      ],
      "execution_count": 0,
      "outputs": [
        {
          "output_type": "stream",
          "text": [
            "Model: \"sequential_9\"\n",
            "_________________________________________________________________\n",
            "Layer (type)                 Output Shape              Param #   \n",
            "=================================================================\n",
            "embedding_8 (Embedding)      (None, 151, 100)          2776900   \n",
            "_________________________________________________________________\n",
            "gru_8 (GRU)                  (None, 128)               87936     \n",
            "_________________________________________________________________\n",
            "dense_8 (Dense)              (None, 1)                 129       \n",
            "=================================================================\n",
            "Total params: 2,864,965\n",
            "Trainable params: 2,864,965\n",
            "Non-trainable params: 0\n",
            "_________________________________________________________________\n"
          ],
          "name": "stdout"
        }
      ]
    },
    {
      "cell_type": "markdown",
      "metadata": {
        "id": "ON5w2ZNWJ7Tg",
        "colab_type": "text"
      },
      "source": [
        "As seen from above model summary, total <font color=\"blue\">traininable parameters are 2,864,965</font>, of which <font color=\"blue\"> embedding layer has 2,776,900 parameters </font>. This huge number of paramenter makes the model training computaionaly expensive"
      ]
    },
    {
      "cell_type": "code",
      "metadata": {
        "id": "vvXfnOtXJ6Lt",
        "colab_type": "code",
        "outputId": "192479dc-7c2d-4d18-a09a-dbf89dddcf8e",
        "colab": {
          "base_uri": "https://localhost:8080/",
          "height": 884
        }
      },
      "source": [
        "Ytrain = Ytrain.astype('int')\n",
        "Ytest = Ytest.astype('int')\n",
        "history = model.fit(Xtrain_pad, Ytrain, batch_size=128, \n",
        "                    epochs = 25, validation_data = (Xtest_pad, Ytest), \n",
        "                    verbose=2)"
      ],
      "execution_count": 0,
      "outputs": [
        {
          "output_type": "stream",
          "text": [
            "Train on 24206 samples, validate on 2136 samples\n",
            "Epoch 1/25\n",
            " - 88s - loss: 0.6922 - acc: 0.5223 - val_loss: 0.6928 - val_acc: 0.5150\n",
            "Epoch 2/25\n",
            " - 87s - loss: 0.6921 - acc: 0.5250 - val_loss: 0.6931 - val_acc: 0.5150\n",
            "Epoch 3/25\n",
            " - 86s - loss: 0.6920 - acc: 0.5250 - val_loss: 0.6933 - val_acc: 0.5150\n",
            "Epoch 4/25\n",
            " - 88s - loss: 0.6920 - acc: 0.5250 - val_loss: 0.6928 - val_acc: 0.5150\n",
            "Epoch 5/25\n",
            " - 88s - loss: 0.6920 - acc: 0.5250 - val_loss: 0.6934 - val_acc: 0.5150\n",
            "Epoch 6/25\n",
            " - 88s - loss: 0.6919 - acc: 0.5250 - val_loss: 0.6927 - val_acc: 0.5150\n",
            "Epoch 7/25\n",
            " - 88s - loss: 0.6920 - acc: 0.5250 - val_loss: 0.6931 - val_acc: 0.5150\n",
            "Epoch 8/25\n",
            " - 88s - loss: 0.6919 - acc: 0.5250 - val_loss: 0.6929 - val_acc: 0.5150\n",
            "Epoch 9/25\n",
            " - 88s - loss: 0.6919 - acc: 0.5250 - val_loss: 0.6927 - val_acc: 0.5150\n",
            "Epoch 10/25\n",
            " - 88s - loss: 0.6920 - acc: 0.5250 - val_loss: 0.6927 - val_acc: 0.5150\n",
            "Epoch 11/25\n",
            " - 88s - loss: 0.6920 - acc: 0.5250 - val_loss: 0.6929 - val_acc: 0.5150\n",
            "Epoch 12/25\n",
            " - 87s - loss: 0.6919 - acc: 0.5250 - val_loss: 0.6928 - val_acc: 0.5150\n",
            "Epoch 13/25\n",
            " - 87s - loss: 0.6920 - acc: 0.5250 - val_loss: 0.6929 - val_acc: 0.5150\n",
            "Epoch 14/25\n",
            " - 88s - loss: 0.6920 - acc: 0.5250 - val_loss: 0.6928 - val_acc: 0.5150\n",
            "Epoch 15/25\n",
            " - 88s - loss: 0.6919 - acc: 0.5250 - val_loss: 0.6931 - val_acc: 0.5150\n",
            "Epoch 16/25\n",
            " - 88s - loss: 0.6919 - acc: 0.5250 - val_loss: 0.6929 - val_acc: 0.5150\n",
            "Epoch 17/25\n",
            " - 88s - loss: 0.6919 - acc: 0.5250 - val_loss: 0.6928 - val_acc: 0.5150\n",
            "Epoch 18/25\n",
            " - 88s - loss: 0.6919 - acc: 0.5250 - val_loss: 0.6930 - val_acc: 0.5150\n",
            "Epoch 19/25\n",
            " - 88s - loss: 0.6919 - acc: 0.5250 - val_loss: 0.6927 - val_acc: 0.5150\n",
            "Epoch 20/25\n",
            " - 87s - loss: 0.6920 - acc: 0.5250 - val_loss: 0.6931 - val_acc: 0.5150\n",
            "Epoch 21/25\n",
            " - 88s - loss: 0.6919 - acc: 0.5250 - val_loss: 0.6930 - val_acc: 0.5150\n",
            "Epoch 22/25\n",
            " - 87s - loss: 0.6919 - acc: 0.5250 - val_loss: 0.6927 - val_acc: 0.5150\n",
            "Epoch 23/25\n",
            " - 88s - loss: 0.6920 - acc: 0.5250 - val_loss: 0.6927 - val_acc: 0.5150\n",
            "Epoch 24/25\n",
            " - 87s - loss: 0.6920 - acc: 0.5250 - val_loss: 0.6929 - val_acc: 0.5150\n",
            "Epoch 25/25\n",
            " - 88s - loss: 0.6919 - acc: 0.5250 - val_loss: 0.6930 - val_acc: 0.5150\n"
          ],
          "name": "stdout"
        }
      ]
    },
    {
      "cell_type": "markdown",
      "metadata": {
        "id": "XvPua0CpNkNg",
        "colab_type": "text"
      },
      "source": [
        "As seen from above the validation error and the training error doesn't differ too much, that means the model is not over fitting the data.\n",
        "But, the training progression slows down after 1st iteration. Even after tweaking the batch_size , number of units, etc. this model doesn't seem to improve from point of view of convergence time. One possible cause of this is that classifier got stuck in local minima which is dosnot generalize well.\n",
        "\n",
        "Model may improve by adding layers and tweaking the layer parameters accordingly. But again, the model will get more computationally expensive."
      ]
    },
    {
      "cell_type": "markdown",
      "metadata": {
        "id": "PLTqWI7rQGLC",
        "colab_type": "text"
      },
      "source": [
        "## Using Pretrained word Embedding:\n",
        "\n",
        "In this section, GloVe word embeddings are used. \n",
        "\n",
        "Global Vectors for Word Representation (Glove) is a unsupervised learning algorithm for representing words with numerical vectors. \n",
        "\n",
        "By using such pretained word embedding, the trainable paramenters will be reduced to a great extent and comparatively such model will be cheaper to train."
      ]
    },
    {
      "cell_type": "markdown",
      "metadata": {
        "id": "e9bGD1bERIi_",
        "colab_type": "text"
      },
      "source": [
        "###  Steps in using word embeddings: \n",
        "1. Download the pretained Glove word Embeddings. Here, the most basic model having size of 822 MB has been used.\n",
        "\n",
        "2. Tokenizer is used to convert each headline into number of list of words, followed by squencing the words.\n",
        "\n",
        "3. Now, build embedding matrix to be used by Keras embedding layer from Glove.\n",
        "\n",
        "4. This is then used to build a squential model as dicussed in previous section.\n"
      ]
    },
    {
      "cell_type": "code",
      "metadata": {
        "id": "3xFr2CkSRIHv",
        "colab_type": "code",
        "outputId": "78ed5dd5-ecb4-46f4-8fbd-39001c86b635",
        "colab": {
          "base_uri": "https://localhost:8080/",
          "height": 442
        }
      },
      "source": [
        "#download and unzip the model\n",
        "! wget http://nlp.stanford.edu/data/glove.6B.zip\n",
        "!unzip glove.6B.zip"
      ],
      "execution_count": 0,
      "outputs": [
        {
          "output_type": "stream",
          "text": [
            "--2019-12-15 16:10:37--  http://nlp.stanford.edu/data/glove.6B.zip\n",
            "Resolving nlp.stanford.edu (nlp.stanford.edu)... 171.64.67.140\n",
            "Connecting to nlp.stanford.edu (nlp.stanford.edu)|171.64.67.140|:80... connected.\n",
            "HTTP request sent, awaiting response... 302 Found\n",
            "Location: https://nlp.stanford.edu/data/glove.6B.zip [following]\n",
            "--2019-12-15 16:10:37--  https://nlp.stanford.edu/data/glove.6B.zip\n",
            "Connecting to nlp.stanford.edu (nlp.stanford.edu)|171.64.67.140|:443... connected.\n",
            "HTTP request sent, awaiting response... 301 Moved Permanently\n",
            "Location: http://downloads.cs.stanford.edu/nlp/data/glove.6B.zip [following]\n",
            "--2019-12-15 16:10:37--  http://downloads.cs.stanford.edu/nlp/data/glove.6B.zip\n",
            "Resolving downloads.cs.stanford.edu (downloads.cs.stanford.edu)... 171.64.64.22\n",
            "Connecting to downloads.cs.stanford.edu (downloads.cs.stanford.edu)|171.64.64.22|:80... connected.\n",
            "HTTP request sent, awaiting response... 200 OK\n",
            "Length: 862182613 (822M) [application/zip]\n",
            "Saving to: ‘glove.6B.zip’\n",
            "\n",
            "glove.6B.zip        100%[===================>] 822.24M  2.03MB/s    in 6m 28s  \n",
            "\n",
            "2019-12-15 16:17:06 (2.12 MB/s) - ‘glove.6B.zip’ saved [862182613/862182613]\n",
            "\n",
            "Archive:  glove.6B.zip\n",
            "  inflating: glove.6B.50d.txt        \n",
            "  inflating: glove.6B.100d.txt       \n",
            "  inflating: glove.6B.200d.txt       \n",
            "  inflating: glove.6B.300d.txt       \n"
          ],
          "name": "stdout"
        }
      ]
    },
    {
      "cell_type": "code",
      "metadata": {
        "id": "mVOBK2SYNjbc",
        "colab_type": "code",
        "outputId": "3754234f-b7d4-48dd-84ed-6f4e389b71f0",
        "colab": {
          "base_uri": "https://localhost:8080/",
          "height": 68
        }
      },
      "source": [
        "\n",
        "head_lines = df_clean['headline'].apply(remove_stopword)\n",
        "tokenizer_obj = Tokenizer()\n",
        "tokenizer_obj.fit_on_texts(head_lines)\n",
        "sequences = tokenizer_obj.texts_to_sequences(head_lines)\n",
        "\n",
        "word_idx = tokenizer_obj.word_index\n",
        "print ('Found %s unique tokens'% len(word_idx))\n",
        "\n",
        "news_pad = pad_sequences(sequences, maxlen = max_len)\n",
        "is_fake = df_clean['is_sarcastic'].values\n",
        "print('shape of headline tensor ', news_pad.shape)\n",
        "print('shape of is_sarcastic ', is_fake.shape)"
      ],
      "execution_count": 0,
      "outputs": [
        {
          "output_type": "stream",
          "text": [
            "Found 28508 unique tokens\n",
            "shape of headline tensor  (28478, 151)\n",
            "shape of is_sarcastic  (28478,)\n"
          ],
          "name": "stdout"
        }
      ]
    },
    {
      "cell_type": "code",
      "metadata": {
        "id": "Y33R9m65ypl3",
        "colab_type": "code",
        "colab": {}
      },
      "source": [
        "import os\n",
        "####### Read frm the downloaded file #####\n",
        "embed_idx = {}\n",
        "f = open('/content/glove.6B.100d.txt', encoding=\"utf-8\")\n",
        "for line in f:\n",
        "  values = line.split()\n",
        "  word = values[0]\n",
        "  coef = np.asarray(values[1:])\n",
        "  embed_idx[word] = coef\n",
        "f.close()\n",
        "\n",
        "####### convert in to embedding matrix: #####\n",
        "num_words = len(word_idx)+1\n",
        "embed_mat = np.zeros((num_words, 100))\n",
        "\n",
        "for word, i in word_idx.items():\n",
        "  if i>num_words:\n",
        "    continue\n",
        "  embed_vector = embed_idx.get(word)\n",
        "  if embed_vector is not None:\n",
        "    embed_mat[i] = embed_vector"
      ],
      "execution_count": 0,
      "outputs": []
    },
    {
      "cell_type": "code",
      "metadata": {
        "id": "F6L0X90TWBAk",
        "colab_type": "code",
        "outputId": "c3e4ec02-815e-4fc6-e20e-ef9b9845e12a",
        "colab": {
          "base_uri": "https://localhost:8080/",
          "height": 255
        }
      },
      "source": [
        "from keras.models import Sequential\n",
        "from keras.layers import Dense, Embedding, LSTM, GRU, SimpleRNN\n",
        "from keras.layers.embeddings import Embedding\n",
        "from keras.initializers import Constant\n",
        "\n",
        "\n",
        "model=Sequential()\n",
        "\n",
        "embedding_layer = Embedding(num_words,\n",
        "                            100,\n",
        "                            embeddings_initializer = Constant(embed_mat),\n",
        "                            input_length = max_len,\n",
        "                            trainable=False)\n",
        "model.add(embedding_layer)\n",
        "model.add(GRU(units = 64, dropout=0.2, recurrent_dropout=0.2))\n",
        "model.add(Dense(1, activation='sigmoid'))\n",
        "\n",
        "model.compile(loss='binary_crossentropy', optimizer = 'adam', metrics = ['accuracy'])\n",
        "model.summary()"
      ],
      "execution_count": 0,
      "outputs": [
        {
          "output_type": "stream",
          "text": [
            "Model: \"sequential_10\"\n",
            "_________________________________________________________________\n",
            "Layer (type)                 Output Shape              Param #   \n",
            "=================================================================\n",
            "embedding_9 (Embedding)      (None, 151, 100)          2850900   \n",
            "_________________________________________________________________\n",
            "gru_9 (GRU)                  (None, 64)                31680     \n",
            "_________________________________________________________________\n",
            "dense_9 (Dense)              (None, 1)                 65        \n",
            "=================================================================\n",
            "Total params: 2,882,645\n",
            "Trainable params: 31,745\n",
            "Non-trainable params: 2,850,900\n",
            "_________________________________________________________________\n"
          ],
          "name": "stdout"
        }
      ]
    },
    {
      "cell_type": "markdown",
      "metadata": {
        "id": "PaX3IZGoXE-Y",
        "colab_type": "text"
      },
      "source": [
        "It can be observed from above summary that trainable paramenters has been hugely reduced to 31,745. Thus this model is computationally cheaper to train. "
      ]
    },
    {
      "cell_type": "code",
      "metadata": {
        "id": "WHx7VLjHY6_z",
        "colab_type": "code",
        "outputId": "3bd35061-6987-4086-de05-2102c91aadf1",
        "colab": {
          "base_uri": "https://localhost:8080/",
          "height": 85
        }
      },
      "source": [
        "Validation_split = 0.2\n",
        "\n",
        "indices = np.arange(news_pad.shape[0])\n",
        "np.random.shuffle(indices)\n",
        "news_pad = news_pad[indices]\n",
        "is_fake = is_fake[indices]\n",
        "num_validation_samples = int(Validation_split * news_pad.shape[0])\n",
        "\n",
        "X_train_pad = news_pad[:-num_validation_samples]\n",
        "y_train = is_fake[:-num_validation_samples]\n",
        "X_test_pad = news_pad[-num_validation_samples:]\n",
        "y_test = is_fake[-num_validation_samples:]\n",
        "\n",
        "print('Shape of X_train_pad: ', X_train_pad.shape)\n",
        "print('Shape of y_train: ', y_train.shape)\n",
        "print('Shape of X_test_pad: ', X_test_pad.shape)\n",
        "print('Shape of X_test: ', y_test.shape)\n"
      ],
      "execution_count": 0,
      "outputs": [
        {
          "output_type": "stream",
          "text": [
            "Shape of X_train_pad:  (22783, 151)\n",
            "Shape of y_train:  (22783,)\n",
            "Shape of X_test_pad:  (5695, 151)\n",
            "Shape of X_test:  (5695,)\n"
          ],
          "name": "stdout"
        }
      ]
    },
    {
      "cell_type": "code",
      "metadata": {
        "id": "nstDr-uZXAX5",
        "colab_type": "code",
        "outputId": "95b1830e-66af-4fe6-e6a3-0e0a66f4a01e",
        "colab": {
          "base_uri": "https://localhost:8080/",
          "height": 884
        }
      },
      "source": [
        "History = model.fit(X_train_pad, y_train, batch_size=256, epochs=25, \n",
        "                    validation_data=(X_test_pad, y_test), verbose=2)"
      ],
      "execution_count": 0,
      "outputs": [
        {
          "output_type": "stream",
          "text": [
            "Train on 22783 samples, validate on 5695 samples\n",
            "Epoch 1/25\n",
            " - 35s - loss: 0.6309 - acc: 0.6356 - val_loss: 0.5496 - val_acc: 0.7212\n",
            "Epoch 2/25\n",
            " - 33s - loss: 0.5536 - acc: 0.7159 - val_loss: 0.5322 - val_acc: 0.7320\n",
            "Epoch 3/25\n",
            " - 33s - loss: 0.5287 - acc: 0.7379 - val_loss: 0.5001 - val_acc: 0.7568\n",
            "Epoch 4/25\n",
            " - 33s - loss: 0.5044 - acc: 0.7561 - val_loss: 0.4796 - val_acc: 0.7638\n",
            "Epoch 5/25\n",
            " - 33s - loss: 0.4860 - acc: 0.7630 - val_loss: 0.4638 - val_acc: 0.7779\n",
            "Epoch 6/25\n",
            " - 33s - loss: 0.4649 - acc: 0.7783 - val_loss: 0.4530 - val_acc: 0.7828\n",
            "Epoch 7/25\n",
            " - 33s - loss: 0.4540 - acc: 0.7859 - val_loss: 0.4504 - val_acc: 0.7824\n",
            "Epoch 8/25\n",
            " - 33s - loss: 0.4384 - acc: 0.7943 - val_loss: 0.4375 - val_acc: 0.7926\n",
            "Epoch 9/25\n",
            " - 33s - loss: 0.4296 - acc: 0.7998 - val_loss: 0.4298 - val_acc: 0.7963\n",
            "Epoch 10/25\n",
            " - 33s - loss: 0.4207 - acc: 0.8066 - val_loss: 0.4259 - val_acc: 0.8007\n",
            "Epoch 11/25\n",
            " - 33s - loss: 0.4102 - acc: 0.8087 - val_loss: 0.4224 - val_acc: 0.8012\n",
            "Epoch 12/25\n",
            " - 34s - loss: 0.4032 - acc: 0.8168 - val_loss: 0.4189 - val_acc: 0.8016\n",
            "Epoch 13/25\n",
            " - 34s - loss: 0.3954 - acc: 0.8198 - val_loss: 0.4200 - val_acc: 0.8028\n",
            "Epoch 14/25\n",
            " - 33s - loss: 0.3899 - acc: 0.8237 - val_loss: 0.4209 - val_acc: 0.8012\n",
            "Epoch 15/25\n",
            " - 34s - loss: 0.3784 - acc: 0.8311 - val_loss: 0.4125 - val_acc: 0.8076\n",
            "Epoch 16/25\n",
            " - 33s - loss: 0.3775 - acc: 0.8286 - val_loss: 0.4117 - val_acc: 0.8091\n",
            "Epoch 17/25\n",
            " - 33s - loss: 0.3663 - acc: 0.8335 - val_loss: 0.4277 - val_acc: 0.8019\n",
            "Epoch 18/25\n",
            " - 32s - loss: 0.3639 - acc: 0.8340 - val_loss: 0.4130 - val_acc: 0.8114\n",
            "Epoch 19/25\n",
            " - 33s - loss: 0.3610 - acc: 0.8368 - val_loss: 0.4127 - val_acc: 0.8146\n",
            "Epoch 20/25\n",
            " - 33s - loss: 0.3581 - acc: 0.8397 - val_loss: 0.4189 - val_acc: 0.8040\n",
            "Epoch 21/25\n",
            " - 33s - loss: 0.3527 - acc: 0.8412 - val_loss: 0.4127 - val_acc: 0.8111\n",
            "Epoch 22/25\n",
            " - 33s - loss: 0.3445 - acc: 0.8486 - val_loss: 0.4277 - val_acc: 0.8040\n",
            "Epoch 23/25\n",
            " - 35s - loss: 0.3433 - acc: 0.8488 - val_loss: 0.4099 - val_acc: 0.8086\n",
            "Epoch 24/25\n",
            " - 33s - loss: 0.3372 - acc: 0.8494 - val_loss: 0.4087 - val_acc: 0.8170\n",
            "Epoch 25/25\n",
            " - 33s - loss: 0.3327 - acc: 0.8526 - val_loss: 0.4144 - val_acc: 0.8181\n"
          ],
          "name": "stdout"
        }
      ]
    },
    {
      "cell_type": "markdown",
      "metadata": {
        "id": "IgKZaE_AZazT",
        "colab_type": "text"
      },
      "source": [
        "As seen from above output the validation accuracy closely follows the training accuracy and thus there is no overfitting on data. Given enough number of epochs, this simple model can do well on this task. Moreover, this can be modified furthermore by adding layers to the model."
      ]
    },
    {
      "cell_type": "code",
      "metadata": {
        "id": "kYY0YbbmeVRm",
        "colab_type": "code",
        "outputId": "f083ccbd-bcce-446a-e7f2-0e9fd6829224",
        "colab": {
          "base_uri": "https://localhost:8080/",
          "height": 525
        }
      },
      "source": [
        "#History.history.keys()\n",
        "fig,ax = plt.subplots(1,2)\n",
        "plt.subplots_adjust(bottom = 0,right = 1.5, wspace = 0.2, hspace = 0.7)\n",
        "plt.subplot(1,2,1)\n",
        "plt.plot(History.history['acc'])\n",
        "plt.plot(History.history['val_acc'])\n",
        "plt.title('model accuracy')\n",
        "plt.ylabel('accuracy')\n",
        "plt.xlabel('epoch')\n",
        "plt.legend(['train', 'test'], loc='upper left')\n",
        "plt.subplot(1,2,2)\n",
        "# summarize history for loss\n",
        "plt.plot(History.history['loss'])\n",
        "plt.plot(History.history['val_loss'])\n",
        "plt.title('model loss')\n",
        "plt.ylabel('loss')\n",
        "plt.xlabel('epoch')\n",
        "plt.legend(['train', 'test'], loc='upper right');\n"
      ],
      "execution_count": 0,
      "outputs": [
        {
          "output_type": "display_data",
          "data": {
            "image/png": "[encoded data removed]",
            "text/plain": [
              "<Figure size 640x480 with 2 Axes>"
            ]
          },
          "metadata": {
            "tags": []
          }
        }
      ]
    },
    {
      "cell_type": "code",
      "metadata": {
        "id": "GAxY6FIHjovB",
        "colab_type": "code",
        "outputId": "6755b60e-668c-44e8-dffe-df938ac911fc",
        "colab": {
          "base_uri": "https://localhost:8080/",
          "height": 430
        }
      },
      "source": [
        "prob_NN = model.predict_proba(X_test_pad)\n",
        "#probab_NN = prob_NN[:, 1]\n",
        "fpr_NN, tpr_NN, _ = roc_curve(y_test, prob_NN)\n",
        "auc_NN = roc_auc_score(y_test, prob_NN)\n",
        "\n",
        "plt.plot(fpr_NN, tpr_NN, marker='.',color='darkorange', label='%s (area = %0.2f)' % ('NN',auc_NN))\n",
        "plt.plot([0, 1], [0, 1], linestyle='--',color='navy', label='No learning')\n",
        "plt.legend(loc=\"lower right\");"
      ],
      "execution_count": 0,
      "outputs": [
        {
          "output_type": "display_data",
          "data": {
            "image/png": "[encoded data removed]",
            "text/plain": [
              "<Figure size 640x480 with 1 Axes>"
            ]
          },
          "metadata": {
            "tags": []
          }
        }
      ]
    },
    {
      "cell_type": "code",
      "metadata": {
        "id": "u_ywVvS5fuc2",
        "colab_type": "code",
        "outputId": "8b61e006-209b-46fe-8501-46a0a06b76a8",
        "colab": {
          "base_uri": "https://localhost:8080/",
          "height": 238
        }
      },
      "source": [
        "from sklearn.metrics import confusion_matrix\n",
        "pred_nn = model.predict_classes(X_test_pad)\n",
        "\n",
        "cm = confusion_matrix(y_test,pred_nn )\n",
        "labels = ['real', 'fake']\n",
        "print( \"CM for NN:\\n\",cm)\n",
        "print(\"Classification Report on Test Set For NN\\n\",classification_report(y_test, pred_nn,target_names=labels))"
      ],
      "execution_count": 0,
      "outputs": [
        {
          "output_type": "stream",
          "text": [
            "CM for NN:\n",
            " [[2441  542]\n",
            " [ 494 2218]]\n",
            "Classification Report on Test Set For NN\n",
            "               precision    recall  f1-score   support\n",
            "\n",
            "        real       0.83      0.82      0.82      2983\n",
            "        fake       0.80      0.82      0.81      2712\n",
            "\n",
            "    accuracy                           0.82      5695\n",
            "   macro avg       0.82      0.82      0.82      5695\n",
            "weighted avg       0.82      0.82      0.82      5695\n",
            "\n"
          ],
          "name": "stdout"
        }
      ]
    },
    {
      "cell_type": "markdown",
      "metadata": {
        "id": "jsojcdAyfvJX",
        "colab_type": "text"
      },
      "source": [
        "### Save Model in .h5 Format\n"
      ]
    },
    {
      "cell_type": "code",
      "metadata": {
        "id": "bbtl9LB1m3Tm",
        "colab_type": "code",
        "colab": {}
      },
      "source": [
        "model.save('/content/drive/My Drive/Fake_news_detect_op/NN_final_model.h5')"
      ],
      "execution_count": 0,
      "outputs": []
    },
    {
      "cell_type": "markdown",
      "metadata": {
        "id": "Aiz41qs_cY2n",
        "colab_type": "text"
      },
      "source": [
        "# <font color='Blue'>BoW vs Word Emdeddings</font> <br>\n",
        "\n",
        "1. BoW doesn't takes into account the relationthip of words and hence can't extract contextual information from the textual data. Whereas Word Embeddings clusters similar word in a close vector space and hence can helpful in gathering context from the given text.\n",
        "2. BoW Approach compartively computationally less expensive than Word Embedding.\n",
        "3. BoW Approach may work better than Word embeddings if the data size is small and domain specific. \n",
        "4. Moreover BoW is good model to quickly build a basic model on textua data and gain some useful insigts about the data along with a baseline working model.\n"
      ]
    },
    {
      "cell_type": "markdown",
      "metadata": {
        "id": "vDOTzHrXlvxq",
        "colab_type": "text"
      },
      "source": [
        "# <Font color=\"Blue\">Conclusion: </font>\n",
        "\n",
        "In this report two of the famous appraches to Text calssification was discussed. The first one is the BoW approach which either used frequency of words or Term- frequency - Inverse document frequency approach to represent the textual data in numbers. The second approach is to represent the words with the learnned vector in the vectorspce where similar words are clustered (word2vec), which is called word embeddings.\n",
        "\n",
        "With the given classification task of fake news detection at hand, these two approaches were checked and the analysis found that:\n",
        "\n",
        "1. MultinomialNB trained on BoW apprach detected fake news comparitively better than SVM and Logistic regression trained using N-fold Grid Search Cross validation model purely based on True positive score. \n",
        "\n",
        "2. If we consider overall accuracy, SVM and logistic regression perform equally well which was better than Multinomial Naive Bayes using BoW approach.\n",
        "\n",
        "3. Pretained Word embeddings can drastically reduce the computational requirement of training a model based on Word embedding approach. \n",
        "\n",
        "4. When compared to BoW, Neural network trained using word embedding approach performed poorely for this particular task. This may prove wrong given more computational power and netral network optimization such as adding more neural network layers, etc. \n",
        "\n",
        "5. The aboved point hence then suggest that classifiers trained on BoW are computaionally cheap and hence can be used to build a baseine models. Moreover they can perfom better than Word embeddings when available data is small and domain specific( here domain is news). [3]\n",
        "\n",
        "\n",
        "\n",
        "\n",
        "\n"
      ]
    },
    {
      "cell_type": "markdown",
      "metadata": {
        "id": "fgwLnGoZ9sXO",
        "colab_type": "text"
      },
      "source": [
        "# References\n",
        "\n",
        "[1] \tJ. Pennington, R. Socher and C. D. Manning, \"GloVe: Global Vectors for Word Representation,\" [Online]. Available: https://nlp.stanford.edu/projects/glove/.<br>\n",
        "\n",
        "[2] \tGoogle.com, \"Classification: ROC Curve and AUC,\" [Online]. Available: https://developers.google.com/machine-learning/crash-course/classification/roc-and-auc.<br>\n",
        "\n",
        "[3] \tE. Ma, \"3 basic approaches in Bag of Words which are better than Word Embeddings,\" [Online]. Available: https://towardsdatascience.com/3-basic-approaches-in-bag-of-words-which-are-better-than-word-embeddings-c2cbc7398016.\n",
        "\n",
        "[4] \tJ. Nabi, \"Machine Learning — Word Embedding & Sentiment Classification using Keras,\" [Online]. Available: https://towardsdatascience.com/machine-learning-word-embedding-sentiment-classification-using-keras-b83c28087456.\n",
        "[5] \tScikit Learn, \"API Reference,\" [Online]. Available: https://scikit-learn.org/stable/modules/classes.html#module-sklearn.feature_extraction.text.\n",
        "\n",
        "[6] \tJ. Brownlee, \"What Are Word Embeddings for Text?,\" [Online]. Available: https://machinelearningmastery.com/what-are-word-embeddings/.\n",
        "\n"
      ]
    }
  ]
}